{
  "nbformat": 4,
  "nbformat_minor": 0,
  "metadata": {
    "colab": {
      "name": "Sentiment Analysis Final Version.ipynb",
      "provenance": [],
      "authorship_tag": "ABX9TyMCIw0Muqk9K0wMFnA1B0pJ",
      "include_colab_link": true
    },
    "kernelspec": {
      "name": "python3",
      "display_name": "Python 3"
    }
  },
  "cells": [
    {
      "cell_type": "markdown",
      "metadata": {
        "id": "view-in-github",
        "colab_type": "text"
      },
      "source": [
        "<a href=\"https://colab.research.google.com/github/Mosaddeq/Sentiment-Analysis/blob/master/Sentiment_Analysis_Final_Version.ipynb\" target=\"_parent\"><img src=\"https://colab.research.google.com/assets/colab-badge.svg\" alt=\"Open In Colab\"/></a>"
      ]
    },
    {
      "cell_type": "code",
      "metadata": {
        "id": "lAxUPkr1Rh71",
        "outputId": "a234b236-2541-4e3d-f3e5-0d26602e0b1d",
        "colab": {
          "base_uri": "https://localhost:8080/"
        }
      },
      "source": [
        "%matplotlib inline\n",
        "import numpy as np\n",
        "import pandas as pd\n",
        "import nltk\n",
        "from nltk.corpus import stopwords\n",
        "import sklearn\n",
        "import matplotlib.pyplot as plt\n",
        "from sklearn.feature_extraction.text import CountVectorizer\n",
        "from sklearn.metrics import confusion_matrix\n",
        "from sklearn.model_selection import GridSearchCV\n",
        "from sklearn.model_selection import train_test_split\n",
        "from sklearn.model_selection import cross_val_score\n",
        "from sklearn.linear_model import LogisticRegression\n",
        "from sklearn.naive_bayes import MultinomialNB\n",
        "from sklearn.ensemble import RandomForestClassifier\n",
        "from sklearn.feature_extraction.text import TfidfVectorizer\n",
        "from google.colab import drive\n",
        "from sklearn import naive_bayes\n",
        "from sklearn.neighbors import KNeighborsClassifier \n",
        "from sklearn.metrics import plot_confusion_matrix\n",
        "import string\n",
        "\n",
        "from google.colab import drive\n",
        "drive.mount('/content/drive',force_remount=True)\n",
        "data =pd.read_csv('/content/drive/My Drive/Colab Notebooks/fin data.csv', encoding='utf8')"
      ],
      "execution_count": 180,
      "outputs": [
        {
          "output_type": "stream",
          "text": [
            "Mounted at /content/drive\n"
          ],
          "name": "stdout"
        }
      ]
    },
    {
      "cell_type": "code",
      "metadata": {
        "id": "_Kvy20I3rfmC",
        "outputId": "316469cb-d113-44ee-fd19-be76bc1f1a8b",
        "colab": {
          "base_uri": "https://localhost:8080/"
        }
      },
      "source": [
        "nltk.download('stopwords')\n",
        "stopwords = nltk.corpus.stopwords.words('english')\n",
        "wn= nltk.WordNetLemmatizer()\n",
        "nltk.download('wordnet')"
      ],
      "execution_count": 181,
      "outputs": [
        {
          "output_type": "stream",
          "text": [
            "[nltk_data] Downloading package stopwords to /root/nltk_data...\n",
            "[nltk_data]   Package stopwords is already up-to-date!\n",
            "[nltk_data] Downloading package wordnet to /root/nltk_data...\n",
            "[nltk_data]   Package wordnet is already up-to-date!\n"
          ],
          "name": "stdout"
        },
        {
          "output_type": "execute_result",
          "data": {
            "text/plain": [
              "True"
            ]
          },
          "metadata": {
            "tags": []
          },
          "execution_count": 181
        }
      ]
    },
    {
      "cell_type": "code",
      "metadata": {
        "id": "QSAa30_5rupf",
        "outputId": "c3444ef0-3902-4d06-ec1d-337a9fdf9733",
        "colab": {
          "base_uri": "https://localhost:8080/",
          "height": 195
        }
      },
      "source": [
        "data.columns = ['Sentence' , 'sentiment']\n",
        "data.head()"
      ],
      "execution_count": 182,
      "outputs": [
        {
          "output_type": "execute_result",
          "data": {
            "text/html": [
              "<div>\n",
              "<style scoped>\n",
              "    .dataframe tbody tr th:only-of-type {\n",
              "        vertical-align: middle;\n",
              "    }\n",
              "\n",
              "    .dataframe tbody tr th {\n",
              "        vertical-align: top;\n",
              "    }\n",
              "\n",
              "    .dataframe thead th {\n",
              "        text-align: right;\n",
              "    }\n",
              "</style>\n",
              "<table border=\"1\" class=\"dataframe\">\n",
              "  <thead>\n",
              "    <tr style=\"text-align: right;\">\n",
              "      <th></th>\n",
              "      <th>Sentence</th>\n",
              "      <th>sentiment</th>\n",
              "    </tr>\n",
              "  </thead>\n",
              "  <tbody>\n",
              "    <tr>\n",
              "      <th>0</th>\n",
              "      <td>It's good.</td>\n",
              "      <td>1</td>\n",
              "    </tr>\n",
              "    <tr>\n",
              "      <th>1</th>\n",
              "      <td>teachers can judge us properly through this sy...</td>\n",
              "      <td>1</td>\n",
              "    </tr>\n",
              "    <tr>\n",
              "      <th>2</th>\n",
              "      <td>The focus on outcomes creates a clear expectat...</td>\n",
              "      <td>1</td>\n",
              "    </tr>\n",
              "    <tr>\n",
              "      <th>3</th>\n",
              "      <td>Not a good curriculum.</td>\n",
              "      <td>0</td>\n",
              "    </tr>\n",
              "    <tr>\n",
              "      <th>4</th>\n",
              "      <td>This system is really good.</td>\n",
              "      <td>1</td>\n",
              "    </tr>\n",
              "  </tbody>\n",
              "</table>\n",
              "</div>"
            ],
            "text/plain": [
              "                                            Sentence  sentiment\n",
              "0                                         It's good.          1\n",
              "1  teachers can judge us properly through this sy...          1\n",
              "2  The focus on outcomes creates a clear expectat...          1\n",
              "3                             Not a good curriculum.          0\n",
              "4                        This system is really good.          1"
            ]
          },
          "metadata": {
            "tags": []
          },
          "execution_count": 182
        }
      ]
    },
    {
      "cell_type": "code",
      "metadata": {
        "id": "eInlK3Qhr6xt"
      },
      "source": [
        "def text_clean(txt):\n",
        "  text_nopunct = [c for c in txt if c not in string.punctuation]\n",
        "  txt =\"\".join(text_nopunct).lower()\n",
        "  tokens =re.split('\\W+', txt)\n",
        "  txt =text= [wn.lemmatize(word) for word in tokens if word not in stopwords]\n",
        "  return txt"
      ],
      "execution_count": 185,
      "outputs": []
    },
    {
      "cell_type": "code",
      "metadata": {
        "id": "g1axXJp3s2Hq",
        "outputId": "2b5eb2bb-dc27-4bb4-9612-332bfa8f2a7c",
        "colab": {
          "base_uri": "https://localhost:8080/"
        }
      },
      "source": [
        "vect = CountVectorizer(analyzer=text_clean)\n",
        "vect.fit(data['Sentence'])"
      ],
      "execution_count": 186,
      "outputs": [
        {
          "output_type": "execute_result",
          "data": {
            "text/plain": [
              "CountVectorizer(analyzer=<function text_clean at 0x7f9094343510>, binary=False,\n",
              "                decode_error='strict', dtype=<class 'numpy.int64'>,\n",
              "                encoding='utf-8', input='content', lowercase=True, max_df=1.0,\n",
              "                max_features=None, min_df=1, ngram_range=(1, 1),\n",
              "                preprocessor=None, stop_words=None, strip_accents=None,\n",
              "                token_pattern='(?u)\\\\b\\\\w\\\\w+\\\\b', tokenizer=None,\n",
              "                vocabulary=None)"
            ]
          },
          "metadata": {
            "tags": []
          },
          "execution_count": 186
        }
      ]
    },
    {
      "cell_type": "code",
      "metadata": {
        "id": "FZAFLIYNtr7l"
      },
      "source": [
        "bag_of_words=vect.transform(data['Sentence'])\n"
      ],
      "execution_count": 187,
      "outputs": []
    },
    {
      "cell_type": "code",
      "metadata": {
        "id": "4FpWLVFCuDRw"
      },
      "source": [
        "print(bag_of_words)\n"
      ],
      "execution_count": null,
      "outputs": []
    },
    {
      "cell_type": "code",
      "metadata": {
        "id": "RMsXK381zw3K"
      },
      "source": [
        "print(\"bag_of_worda as array:\\n{}\".format(bag_of_words.toarray()))"
      ],
      "execution_count": null,
      "outputs": []
    },
    {
      "cell_type": "code",
      "metadata": {
        "id": "awnAvi65xoQA"
      },
      "source": [
        "vect.get_feature_names()"
      ],
      "execution_count": null,
      "outputs": []
    },
    {
      "cell_type": "code",
      "metadata": {
        "id": "l3Emn5kxxutu"
      },
      "source": [
        "X = data['Sentence']\n",
        "y= data['sentiment']"
      ],
      "execution_count": 191,
      "outputs": []
    },
    {
      "cell_type": "code",
      "metadata": {
        "id": "DUPnlrYFx4Fd"
      },
      "source": [
        "print(y.shape)\n",
        "print(X.shape)"
      ],
      "execution_count": null,
      "outputs": []
    },
    {
      "cell_type": "code",
      "metadata": {
        "id": "ykpJvxHa0D4D"
      },
      "source": [
        "X_train,X_test,y_train, y_test = train_test_split( X, y, test_size = 0.2)\n"
      ],
      "execution_count": 193,
      "outputs": []
    },
    {
      "cell_type": "code",
      "metadata": {
        "id": "20ilizgb0Neq"
      },
      "source": [
        "len(X_train)"
      ],
      "execution_count": null,
      "outputs": []
    },
    {
      "cell_type": "code",
      "metadata": {
        "id": "90FAbRSi0Plf"
      },
      "source": [
        "print(\"sample class: {}\".format(np.bincount(y_train)))\n",
        "print(\"sample class: {}\".format(np.bincount(y_test)))"
      ],
      "execution_count": null,
      "outputs": []
    },
    {
      "cell_type": "code",
      "metadata": {
        "id": "neZ3852M0SGg"
      },
      "source": [
        "X_train = vectorizer.fit_transform(X_train)\n",
        "X_test = vectorizer.transform(X_test)"
      ],
      "execution_count": 196,
      "outputs": []
    },
    {
      "cell_type": "code",
      "metadata": {
        "id": "fiaIExby0Wk1"
      },
      "source": [
        "feature_names = vectorizer.get_feature_names()\n",
        "print(\"number of features: {}\".format(len(feature_names)))"
      ],
      "execution_count": null,
      "outputs": []
    },
    {
      "cell_type": "code",
      "metadata": {
        "id": "If7bFBUE0ZHy"
      },
      "source": [
        "scores = cross_val_score(LogisticRegression(), X_train,y_train, cv=5)\n",
        "print(\"Mean Cross Validation Accuracy: {:.2f}\".format(np.mean(scores)) )"
      ],
      "execution_count": null,
      "outputs": []
    },
    {
      "cell_type": "code",
      "metadata": {
        "id": "ngcTudYj1B09"
      },
      "source": [
        "logreg= LogisticRegression()\n",
        "logreg.fit(X_train,y_train)\n",
        "print(\"train Score: {:.3f}\".format(logreg.score(X_train,y_train)))\n",
        "print(\"test Score: {:.3f}\".format(logreg.score(X_test,y_test)))"
      ],
      "execution_count": null,
      "outputs": []
    },
    {
      "cell_type": "code",
      "metadata": {
        "id": "RdfpX01Q1E8H"
      },
      "source": [
        "pred_logreg  = logreg.predict(X_test)\n",
        "confusion = confusion_matrix(y_test,pred_logreg)\n",
        "print(\"cofusion Matrix:\\n{}\" .format(confusion))"
      ],
      "execution_count": null,
      "outputs": []
    },
    {
      "cell_type": "code",
      "metadata": {
        "id": "U1dL8X7z1IE_"
      },
      "source": [
        "nb = MultinomialNB()\n",
        "nb.fit(X_train,y_train)\n",
        "print(\"Training set score: {:.3f}\".format(nb.score(X_train,y_train)))\n",
        "print(\"Test set score: {:.3f}\".format(nb.score(X_test,y_test)))"
      ],
      "execution_count": null,
      "outputs": []
    },
    {
      "cell_type": "code",
      "metadata": {
        "id": "I5xkjH481LlB"
      },
      "source": [
        "pred_nb  = nb.predict(X_test)\n",
        "confusion1 = confusion_matrix(y_test,pred_nb)\n",
        "print(\"cofusion Matrix:\\n{}\" .format(confusion1)) "
      ],
      "execution_count": null,
      "outputs": []
    },
    {
      "cell_type": "code",
      "metadata": {
        "id": "BCIuHmO11Nht"
      },
      "source": [
        "rf = RandomForestClassifier()\n",
        "rf.fit(X_train,y_train)\n",
        "print(\"Training set score: {:.3f}\".format(rf.score(X_train,y_train)))\n",
        "print(\"Test set score: {:.3f}\".format(rf.score(X_test,y_test)))"
      ],
      "execution_count": null,
      "outputs": []
    },
    {
      "cell_type": "code",
      "metadata": {
        "id": "y1OUx2-01PSy"
      },
      "source": [
        "pred_rf  = rf.predict(X_test)\n",
        "confusion2 = confusion_matrix(y_test,pred_rf)\n",
        "print(\"cofusion Matrix:\\n{}\" .format(confusion2))"
      ],
      "execution_count": null,
      "outputs": []
    },
    {
      "cell_type": "code",
      "metadata": {
        "id": "FH7ZCAfK1RQw"
      },
      "source": [
        "knn_clf = KNeighborsClassifier(n_neighbors=8)\n",
        "knn_clf.fit(X_train,y_train)\n",
        "knn_prediction = knn_clf.predict(X_test)\n",
        "print(\"Training set score: {:.3f}\".format(knn_clf.score(X_train,y_train)))\n",
        "print(\"Test set score: {:.3f}\".format(knn_clf.score(X_test,y_test)))\n"
      ],
      "execution_count": null,
      "outputs": []
    },
    {
      "cell_type": "code",
      "metadata": {
        "id": "BJmVusvV1S9d"
      },
      "source": [
        "confusion3 = confusion_matrix(y_test,knn_prediction)\n",
        "print(\"cofusion Matrix:\\n{}\" .format(confusion3))"
      ],
      "execution_count": null,
      "outputs": []
    },
    {
      "cell_type": "code",
      "metadata": {
        "id": "375Kppim1VrV"
      },
      "source": [
        "matrix = plot_confusion_matrix(knn_clf, X_test, y_test,cmap = plt.cm.Reds)\n",
        "matrix.ax_.set_title('confuison Matrix' , color='white')\n",
        "plt.xlabel('Predicted Label',color='white')\n",
        "plt.ylabel('True Label', color='white')                             #plot confusion matrix\n",
        "plt.gcf().axes[0].tick_params(colors='white')\n",
        "plt.gcf().axes[1].tick_params(colors='white')\n",
        "plt.gcf().set_size_inches(10,6)\n",
        "plt.show()\n"
      ],
      "execution_count": null,
      "outputs": []
    },
    {
      "cell_type": "code",
      "metadata": {
        "id": "vfW2mhJi1XQA"
      },
      "source": [
        "matrix = plot_confusion_matrix(nb, X_test, y_test,cmap = plt.cm.Blues)\n",
        "matrix.ax_.set_title('confuison Matrix' , color='white')\n",
        "plt.xlabel('Predicted Label',color='white')\n",
        "plt.ylabel('True Label', color='white')                         #plot confusion matrix\n",
        "plt.gcf().axes[0].tick_params(colors='white')\n",
        "plt.gcf().axes[1].tick_params(colors='white')\n",
        "plt.gcf().set_size_inches(10,6)\n",
        "plt.show()"
      ],
      "execution_count": null,
      "outputs": []
    },
    {
      "cell_type": "code",
      "metadata": {
        "id": "7DKMmSF81ZEh"
      },
      "source": [
        "matrix = plot_confusion_matrix(rf, X_test, y_test,cmap = plt.cm.Greens)\n",
        "matrix.ax_.set_title('confuison Matrix' , color='white')\n",
        "plt.xlabel('Predicted Label',color='white')\n",
        "plt.ylabel('True Label', color='white')                       #plot confusion matrix\n",
        "plt.gcf().axes[0].tick_params(colors='white')\n",
        "plt.gcf().axes[1].tick_params(colors='white')\n",
        "plt.gcf().set_size_inches(10,6)\n",
        "plt.show()"
      ],
      "execution_count": null,
      "outputs": []
    },
    {
      "cell_type": "code",
      "metadata": {
        "id": "nA3VXDCK1aa4"
      },
      "source": [
        "matrix = plot_confusion_matrix(logreg, X_test, y_test,cmap = plt.cm.GnBu_r) #plot confusion matrix\n",
        "matrix.ax_.set_title('confuison Matrix' , color='white')\n",
        "plt.xlabel('Predicted Label',color='white')\n",
        "plt.ylabel('True Label', color='white')\n",
        "plt.gcf().axes[0].tick_params(colors='white')\n",
        "plt.gcf().axes[1].tick_params(colors='white')\n",
        "plt.gcf().set_size_inches(10,6)\n",
        "plt.show()"
      ],
      "execution_count": null,
      "outputs": []
    },
    {
      "cell_type": "code",
      "metadata": {
        "id": "2GsZ8Ceu1b_g"
      },
      "source": [
        "r_probs = [0 for _ in range(len(y_test))]\n",
        "rf_probs = rf.predict_proba(X_test) #calculating probabilities\n",
        "nb_probs = nb.predict_proba(X_test)\n",
        "logreg_probs = logreg.predict_proba(X_test)\n",
        "knn_clf_probs = knn_clf.predict_proba(X_test)"
      ],
      "execution_count": 223,
      "outputs": []
    },
    {
      "cell_type": "code",
      "metadata": {
        "id": "cyfyCzFH1dUs"
      },
      "source": [
        "rf_probs = rf_probs[:, 1] ##probabilitions for the pos outcomes is kept\n",
        "nb_probs= nb_probs[:, 1]\n",
        "logreg_probs = logreg_probs[:, 1]\n",
        "knn_clf_probs=knn_clf_probs[:, 1]"
      ],
      "execution_count": 212,
      "outputs": []
    },
    {
      "cell_type": "code",
      "metadata": {
        "id": "R6l0piwH1e8P"
      },
      "source": [
        "from sklearn.metrics import roc_curve , roc_auc_score"
      ],
      "execution_count": 213,
      "outputs": []
    },
    {
      "cell_type": "code",
      "metadata": {
        "id": "IQs6smaJ1gjm"
      },
      "source": [
        "r_auc = roc_auc_score(y_test,r_probs)\n",
        "rf_auc = roc_auc_score(y_test,rf_probs)\n",
        "nb_auc = roc_auc_score(y_test,nb_probs)             #calculating roc_auc\n",
        "logreg_auc =roc_auc_score(y_test,logreg_probs)\n",
        "knn_clf_auc =roc_auc_score(y_test,knn_clf_probs)"
      ],
      "execution_count": 214,
      "outputs": []
    },
    {
      "cell_type": "code",
      "metadata": {
        "id": "Pj32LyjR1iH6",
        "outputId": "24e75852-13d8-449e-859d-0e0d1a30c83c",
        "colab": {
          "base_uri": "https://localhost:8080/"
        }
      },
      "source": [
        "print('random (chance) = %.3f'% (r_auc))\n",
        "print('random forest = %.3f'% (rf_auc))\n",
        "print('naive bayes = %.3f'% (nb_auc))\n",
        "print('logistic regression = %.3f'% (logreg_auc))\n",
        "print('KNN-classifier = %.3f'% (knn_clf_auc))"
      ],
      "execution_count": 215,
      "outputs": [
        {
          "output_type": "stream",
          "text": [
            "random (chance) = 0.500\n",
            "random forest = 0.896\n",
            "naive bayes = 0.914\n",
            "logistic regression = 0.924\n",
            "KNN-classifier = 0.714\n"
          ],
          "name": "stdout"
        }
      ]
    },
    {
      "cell_type": "code",
      "metadata": {
        "id": "WvvVDkva1j84"
      },
      "source": [
        "r_fpr,r_tpr, _ = roc_curve(y_test,r_probs)\n",
        "rf_fpr,rf_tpr, _ = roc_curve(y_test,rf_probs)\n",
        "nb_fpr,nb_tpr, _ = roc_curve(y_test,nb_probs)                 ##calculating ROC curve\n",
        "logreg_fpr,logreg_tpr, _ = roc_curve(y_test,logreg_probs)\n",
        "knn_clf_fpr,knn_clf_tpr, _ = roc_curve(y_test,knn_clf_probs)"
      ],
      "execution_count": 216,
      "outputs": []
    },
    {
      "cell_type": "code",
      "metadata": {
        "id": "yx4G_A821nF_"
      },
      "source": [
        "from sklearn.datasets import  make_classification"
      ],
      "execution_count": 217,
      "outputs": []
    },
    {
      "cell_type": "code",
      "metadata": {
        "id": "KwuC1nOS1o1k"
      },
      "source": [
        "plt.plot(r_fpr, r_tpr, linestyle = '--' , label = 'Random Prediction(AUROC = %0.3f' % r_auc)\n",
        "plt.plot(rf_fpr,rf_tpr,  marker = '.', label = 'Random Forest (AUROC = %0.3f' % rf_auc) #plot ROC curve\n",
        "plt.plot(nb_fpr,nb_tpr,  marker = '.', label = 'Naive Bayes (AUROC = %0.3f' % nb_auc)\n",
        "plt.plot(logreg_fpr,logreg_tpr,  marker = '.', label = 'Logistic Regression (AUROC = %0.3f' % logreg_auc)\n",
        "plt.plot(knn_clf_fpr,knn_clf_tpr,  marker = '.', label = 'K Neighbors (AUROC = %0.3f' % knn_clf_auc)\n",
        "\n",
        "\n",
        "\n",
        "#Title\n",
        "plt.title('ROC Plot')\n",
        "#Axis labels\n",
        "\n",
        "\n",
        "plt.xlabel('False Positive Rate')\n",
        "plt.ylabel('True Positive Rate' )\n",
        "#plt.setp(ax.get_xticklabels(), color=\"red\")\n",
        "\n",
        "\n",
        "#show legend\n",
        "plt.legend()\n",
        "\n",
        "plt.show()\n"
      ],
      "execution_count": null,
      "outputs": []
    },
    {
      "cell_type": "code",
      "metadata": {
        "id": "cfYCeFzv1qta"
      },
      "source": [
        "rev = \"wish i could say something good but i can't because its too bad\"\n",
        "print(logreg.predict(vectorizer.transform([rev]))[0])\n",
        "print(rf.predict(vectorizer.transform([rev]))[0])\n",
        "print(nb.predict(vectorizer.transform([rev]))[0])\n",
        "print(knn_clf.predict(vectorizer.transform([rev]))[0])"
      ],
      "execution_count": null,
      "outputs": []
    },
    {
      "cell_type": "code",
      "metadata": {
        "id": "L8AAgnj11v4_"
      },
      "source": [
        "rev1 = \"it is not bad\"\n",
        "print(logreg.predict(vectorizer.transform([rev1]))[0])\n",
        "print(rf.predict(vectorizer.transform([rev1]))[0])\n",
        "print(nb.predict(vectorizer.transform([rev1]))[0])\n",
        "print(knn_clf.predict(vectorizer.transform([rev1]))[0])"
      ],
      "execution_count": null,
      "outputs": []
    },
    {
      "cell_type": "code",
      "metadata": {
        "id": "T6wF24c62GV5"
      },
      "source": [
        "rev2 = \"it is not good\"\n",
        "print(logreg.predict(vectorizer.transform([rev2]))[0])\n",
        "print(rf.predict(vectorizer.transform([rev2]))[0])\n",
        "print(nb.predict(vectorizer.transform([rev2]))[0])\n",
        "print(knn_clf.predict(vectorizer.transform([rev2]))[0])"
      ],
      "execution_count": null,
      "outputs": []
    },
    {
      "cell_type": "code",
      "metadata": {
        "id": "8t-jYtEF5wP8"
      },
      "source": [
        ""
      ],
      "execution_count": null,
      "outputs": []
    }
  ]
}