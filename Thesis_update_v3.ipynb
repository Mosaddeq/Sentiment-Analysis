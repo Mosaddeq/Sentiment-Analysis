{
  "nbformat": 4,
  "nbformat_minor": 0,
  "metadata": {
    "colab": {
      "name": "Thesis update v3.ipynb",
      "provenance": [],
      "include_colab_link": true
    },
    "kernelspec": {
      "name": "python3",
      "display_name": "Python 3"
    }
  },
  "cells": [
    {
      "cell_type": "markdown",
      "metadata": {
        "id": "view-in-github",
        "colab_type": "text"
      },
      "source": [
        "<a href=\"https://colab.research.google.com/github/Mosaddeq/Sentiment-Analysis/blob/master/Thesis_update_v3.ipynb\" target=\"_parent\"><img src=\"https://colab.research.google.com/assets/colab-badge.svg\" alt=\"Open In Colab\"/></a>"
      ]
    },
    {
      "cell_type": "code",
      "metadata": {
        "id": "yvewpvw2sORc",
        "outputId": "bd609017-eff0-4c20-8d33-080d9933d98d",
        "colab": {
          "base_uri": "https://localhost:8080/"
        }
      },
      "source": [
        "%matplotlib inline\n",
        "import numpy as np\n",
        "import pandas as pd\n",
        "import nltk\n",
        "from nltk.corpus import stopwords\n",
        "import sklearn\n",
        "import matplotlib.pyplot as plt\n",
        "from sklearn.feature_extraction.text import CountVectorizer\n",
        "from sklearn.metrics import confusion_matrix\n",
        "from sklearn.model_selection import GridSearchCV\n",
        "from sklearn.model_selection import train_test_split\n",
        "from sklearn.model_selection import cross_val_score\n",
        "from sklearn.linear_model import LogisticRegression\n",
        "from sklearn.naive_bayes import MultinomialNB\n",
        "from sklearn.ensemble import RandomForestClassifier\n",
        "from sklearn.feature_extraction.text import TfidfVectorizer\n",
        "from google.colab import drive\n",
        "from sklearn import naive_bayes\n",
        "from sklearn.neighbors import KNeighborsClassifier \n",
        "from sklearn.metrics import plot_confusion_matrix\n",
        "\n",
        "\n",
        "from google.colab import drive\n",
        "drive.mount('/content/drive',force_remount=True)\n",
        "data =pd.read_csv('/content/drive/My Drive/Colab Notebooks/Thesis Data test.csv', encoding='utf8')"
      ],
      "execution_count": 47,
      "outputs": [
        {
          "output_type": "stream",
          "text": [
            "Mounted at /content/drive\n"
          ],
          "name": "stdout"
        }
      ]
    },
    {
      "cell_type": "code",
      "metadata": {
        "id": "EJjplZa7vEzT"
      },
      "source": [
        "data['Sentence'] = data['Sentence'].str.lower()"
      ],
      "execution_count": 48,
      "outputs": []
    },
    {
      "cell_type": "code",
      "metadata": {
        "id": "M8gbRN2Hsfym",
        "outputId": "e318e230-ee27-4de4-9740-e09fe3a59117",
        "colab": {
          "base_uri": "https://localhost:8080/"
        }
      },
      "source": [
        "vect=CountVectorizer() ##Convert a collection of text documents to a matrix of token counts\n",
        "vect.fit(data['Sentence']) #creates dict. by series of tokens"
      ],
      "execution_count": 49,
      "outputs": [
        {
          "output_type": "execute_result",
          "data": {
            "text/plain": [
              "CountVectorizer(analyzer='word', binary=False, decode_error='strict',\n",
              "                dtype=<class 'numpy.int64'>, encoding='utf-8', input='content',\n",
              "                lowercase=True, max_df=1.0, max_features=None, min_df=1,\n",
              "                ngram_range=(1, 1), preprocessor=None, stop_words=None,\n",
              "                strip_accents=None, token_pattern='(?u)\\\\b\\\\w\\\\w+\\\\b',\n",
              "                tokenizer=None, vocabulary=None)"
            ]
          },
          "metadata": {
            "tags": []
          },
          "execution_count": 49
        }
      ]
    },
    {
      "cell_type": "code",
      "metadata": {
        "id": "buJRuuorshig",
        "outputId": "25734870-fbe2-4b18-ad70-7ff9d39fa4d6",
        "colab": {
          "base_uri": "https://localhost:8080/"
        }
      },
      "source": [
        "print(\"Vocabulary size: {}\".format(len(vect.vocabulary_)))\n",
        "print(\"Vocabulary content:\\n {}\".format(vect.vocabulary_))"
      ],
      "execution_count": 50,
      "outputs": [
        {
          "output_type": "stream",
          "text": [
            "Vocabulary size: 1264\n",
            "Vocabulary content:\n",
            " {'it': 627, 'good': 501, 'teachers': 1107, 'can': 157, 'judge': 634, 'us': 1195, 'properly': 899, 'through': 1146, 'this': 1142, 'system': 1088, 'the': 1124, 'focus': 455, 'on': 776, 'outcomes': 802, 'creates': 235, 'clear': 184, 'expectation': 406, 'of': 771, 'what': 1225, 'needs': 751, 'to': 1151, 'be': 121, 'accomplished': 11, 'by': 154, 'end': 348, 'course': 229, 'not': 758, 'curriculum': 248, 'is': 623, 'really': 930, 'quiet': 916, 'outcome': 801, 'based': 114, 'education': 325, 'teaches': 1108, 'thinking': 1140, 'skills': 1022, 'and': 58, 'engages': 353, 'students': 1067, 'more': 734, 'when': 1227, 'student': 1066, 'product': 882, 'in': 577, 'much': 740, 'meaningful': 710, 'than': 1121, 'answers': 62, 'test': 1118, 'provides': 906, 'learning': 659, 'similar': 1013, 'real': 927, 'world': 1253, 'applications': 67, 'with': 1243, 'sense': 990, 'instructors': 607, 'will': 1238, 'able': 5, 'structure': 1063, 'their': 1125, 'lessons': 666, 'around': 79, 'obe': 763, 'does': 306, 'specify': 1041, 'specific': 1037, 'method': 723, 'instruction': 604, 'leaving': 662, 'free': 472, 'teach': 1105, 'using': 1201, 'any': 63, 'also': 50, 'recognize': 934, 'diversity': 304, 'among': 54, 'various': 1204, 'teaching': 1109, 'assessment': 87, 'techniques': 1113, 'during': 319, 'class': 180, 'has': 526, 'been': 125, 'very': 1207, 'effective': 332, 'for': 462, 'me': 708, 'helping': 537, 'my': 743, 'rather': 923, 'theory': 1131, 'only': 779, 'best': 137, 'ensures': 365, 'whether': 1230, 'we': 1221, 'use': 1196, 'whatever': 1226, 'learn': 654, 'that': 1123, 'our': 798, 'life': 669, 'bad': 110, 'format': 469, 'evaluating': 377, 'code': 189, 'courses': 230, 'as': 82, 'programming': 892, 'do': 305, 'depend': 270, 'descriptive': 273, 'even': 382, 'if': 563, 'understands': 1188, 'topic': 1157, 'mean': 709, 'practical': 860, 'coding': 190, 'empowers': 343, 'take': 1093, 'responsibility': 957, 'own': 810, 'supports': 1082, 'move': 739, 'greater': 509, 'engagement': 352, 'centered': 163, 'approaches': 74, 'powerful': 859, 'strategy': 1055, 'should': 1009, 'used': 1197, 'planning': 842, 'means': 712, 'making': 690, 'informed': 590, 'discussions': 300, 'about': 6, 'adopted': 32, 'basis': 119, 'trainees': 1165, 'programme': 891, 'itself': 630, 'learned': 655, 'lot': 679, 'attending': 99, 'think': 1139, 'challanging': 167, 'there': 1132, 'lots': 680, 'achive': 18, 'removed': 946, 'understandable': 1186, 'every': 384, 'familiar': 430, 'clearly': 186, 'works': 1251, 'evalution': 381, 'subject': 1072, 'need': 749, 'under': 1183, 'well': 1223, 'follow': 459, 'working': 1249, 'approach': 73, 'tasks': 1102, 'or': 790, 'knowledge': 645, 'are': 77, 'easily': 322, 'measured': 715, 'such': 1079, 'someone': 1031, 'drive': 315, 'forklift': 466, 'other': 795, 'topics': 1158, 'where': 1229, 'speculative': 1042, 'subjective': 1073, 'therefore': 1134, 'harder': 525, 'measure': 714, 'write': 1257, 'music': 741, 'obvious': 769, 'issue': 625, 'example': 394, 'defining': 262, 'trainee': 1164, 'them': 1126, 'successfully': 1078, 'achieving': 17, 'specified': 1040, 'preferably': 866, 'defined': 261, 'important': 569, 'systematic': 1089, 'process': 879, 'followed': 460, 'starting': 1049, 'analysis': 56, 'phase': 837, 'study': 1069, 'base': 113, 'understanding': 1187, 'needed': 750, 'evaluate': 375, 'actual': 20, 'performance': 828, 'am': 52, 'helps': 538, 'each': 320, 'many': 694, 'like': 672, 'toc': 1152, 'compiler': 202, 'some': 1030, 'no': 756, 'effect': 331, 'at': 94, 'all': 44, 'failing': 429, 'achieve': 14, 'goal': 497, 'but': 153, 'initiative': 592, 'improvement': 574, 'though': 1144, 'feedback': 437, 'donn': 311, 'understand': 1185, 'thank': 1122, 'you': 1262, 'overall': 806, 'evaluation': 378, 'because': 122, 'here': 541, 'show': 1011, 'his': 546, 'creativity': 237, 'presenting': 872, 'her': 540, 'openion': 781, 'exam': 390, 'logic': 675, 'which': 1231, 'field': 441, 'way': 1219, 'so': 1026, 'develop': 281, 'proper': 898, 'know': 643, 'plan': 841, 'monitor': 732, 'its': 629, 'implementation': 565, 'assess': 84, 'achievement': 16, 'yes': 1260, 'revealed': 960, 'individual': 584, 'result': 958, 'becomes': 124, 'problematic': 876, 'already': 48, 'hard': 524, 'enough': 360, 'pass': 821, 'scoring': 977, 'shouldn': 1010, 'thing': 1137, 'systems': 1091, 'work': 1248, 'environment': 368, 'honestly': 548, 'speaking': 1036, 'who': 1233, 'wants': 1216, 'finish': 447, 'without': 1244, 'trouble': 1173, 'strict': 1059, 'requirement': 953, 'certain': 165, 'don': 309, 'want': 1214, 'guilty': 517, 'after': 39, 'included': 578, 'cv': 250, 'beneficial': 134, 'looking': 677, 'jobs': 632, 'abroad': 7, 'have': 528, 'come': 195, 'accept': 10, 'must': 742, 'go': 496, 'quite': 917, 'normal': 757, 'terms': 1117, 'difficulty': 294, 'little': 674, 'bit': 142, 'average': 104, 'questions': 915, 'nothing': 759, 'impossible': 570, 'given': 492, 'problem': 875, 'most': 735, 'mandatory': 692, 'passed': 822, 'separately': 994, 'along': 47, 'main': 683, 'giving': 494, 'opportunity': 787, 'out': 800, 'thoughts': 1145, 'oblige': 765, 'thereby': 1133, 'satisfied': 970, 'great': 508, 'job': 631, 'improve': 572, 'doing': 308, 'wise': 1240, 'judging': 635, 'related': 942, 'helpful': 536, 'enrich': 361, 'capability': 158, 'worldly': 1254, 'recognised': 933, 'operated': 782, 'common': 196, 'personally': 834, 'feel': 438, 'give': 491, 'symbol': 1086, 'certificate': 166, 'told': 1153, 'beforehand': 126, 'reward': 963, 'then': 1128, 'they': 1136, 'would': 1256, 'seriously': 997, 'educational': 326, 'experience': 409, 'achieved': 15, 'single': 1016, 'style': 1071, 'instead': 601, 'classes': 181, 'opportunities': 786, 'assessments': 88, 'help': 534, 'role': 966, 'faculty': 427, 'adapts': 22, 'into': 621, 'instructor': 606, 'trainer': 1166, 'facilitator': 424, 'mentor': 722, 'targeted': 1099, 'time': 1149, 'mainly': 684, 'answering': 61, 'how': 551, 'answer': 60, 'both': 146, 'lackings': 647, 'fulfillness': 476, 'yaah': 1259, 'up': 1194, 'mark': 696, 'guess': 512, 'determine': 279, 'quality': 913, 'skill': 1019, 'level': 667, 'okay': 775, 'model': 731, 'term': 1116, 'core': 222, 'concept': 208, 'sometimes': 1033, 'interchangeably': 613, 'competency': 201, 'standards': 1047, 'benchmarks': 133, 'attainment': 96, 'targets': 1100, 'uses': 1200, 'same': 969, 'methodology': 725, 'formally': 468, 'informally': 587, 'workplace': 1250, 'focuses': 457, 'following': 461, 'developing': 284, 'curricula': 244, 'basic': 116, 'professional': 885, 'vocational': 1212, 'intellectual': 609, 'interpersonal': 620, 'personal': 833, 'educationsystem': 327, 'everyone': 385, 'basics': 118, 'subjects': 1074, 'tough': 1159, 'necessary': 747, 'increase': 579, 'one': 777, 'kind': 641, 'off': 772, 'evaluates': 376, 'grades': 504, 'efficient': 333, 'represents': 949, 'development': 285, 'support': 1081, 'renewal': 947, 'revision': 962, 'accreditation': 13, 'faul': 432, 'useless': 1199, 'perfect': 825, 'grade': 503, 'engineering': 354, 'prefer': 865, 'provide': 904, 'page': 811, 'better': 138, 'future': 481, 'country': 228, 'create': 234, 'eligible': 337, 'trainers': 1167, 'ultimately': 1181, 'methods': 726, 'now': 760, 'days': 252, 'theoretical': 1129, 'get': 489, 'chance': 170, 'make': 688, 'skilled': 1020, 'ourself': 799, 'oftentimes': 774, 'exams': 396, 'lightly': 671, 'technique': 1112, 'insuring': 608, 'applies': 69, 'content': 217, 'an': 55, 'organizational': 792, 'focused': 456, 'organizing': 793, 'operating': 784, 'instructional': 605, 'importance': 568, 'since': 1015, 'university': 1192, 'authorization': 103, 'betterment': 139, 'universities': 1191, 'increases': 581, 'ability': 4, 'focusing': 458, 'everything': 386, 'essential': 371, 'experiences': 411, 'book': 143, 'examines': 392, 'issues': 626, 'critical': 239, 'implementing': 567, 'offers': 773, 'advantages': 37, 'emphasizes': 341, 'relevance': 943, 'accountability': 12, 'unambiguous': 1182, 'framework': 471, 'intuitive': 622, 'appeal': 65, 'he': 530, 'she': 1005, 'understood': 1189, 'done': 310, 'rejects': 941, 'traditional': 1161, 'school': 974, 'favor': 433, 'demonstrate': 268, 'required': 952, 'crying': 241, 'bases': 115, 'part': 815, 'goals': 498, 'present': 870, 'being': 131, 'widely': 1237, 'leading': 652, 'institutions': 602, 'bangladesh': 112, 'educators': 330, 'developed': 282, 'curiosity': 242, 'reason': 931, 'behind': 130, 'ongoing': 778, 'transformation': 1169, 'proven': 903, 'new': 753, 'prepare': 867, 'stand': 1045, 'global': 495, 'counterparts': 226, 'these': 1135, 'factors': 426, 'contribute': 221, 'raising': 921, 'standard': 1046, 'admiring': 30, 'raise': 920, 'concur': 210, 'training': 1168, 'viable': 1208, 'may': 707, 'constraints': 216, 'initially': 591, 'procedure': 878, 'item': 628, 'social': 1027, 'reflexive': 936, 'handled': 522, 'hall': 519, 'day': 251, 'furthermore': 480, 'useful': 1198, 'guidance': 513, 'preparing': 868, 'however': 552, 'isn': 624, 'liberal': 668, 'idea': 558, 'particularly': 819, 'expressions': 416, 'humanities': 555, 'long': 676, 'last': 649, 'inspite': 600, 'fact': 425, 'exercises': 401, 'substance': 1075, 'doesn': 307, 'nature': 745, 'program': 890, 'positive': 854, 'negative': 752, 'side': 1012, 'face': 421, 'problems': 877, 'parts': 820, 'finished': 448, 'say': 971, 'instructed': 603, 'examining': 393, 'hugely': 554, 'benefited': 135, 'growing': 510, 'impact': 564, 'nearly': 746, 'creative': 236, 'actually': 21, 'over': 805, 'matter': 704, 'deeply': 259, 'question': 914, 'find': 445, 'said': 968, 'gives': 493, 'ways': 1220, 'reforms': 938, 'emphasize': 339, 'setting': 1001, 'observable': 766, 'measurable': 713, 'demands': 267, 'adoption': 33, 'countries': 227, 'strictly': 1060, 'mathematics': 703, 'language': 648, 'science': 976, 'history': 547, 'ever': 383, 'referring': 935, 'attitudes': 101, 'moral': 733, 'values': 1203, 'didn': 286, 'benefits': 136, 'from': 473, 'just': 636, 'differ': 287, 'yet': 1261, 'teacher': 1106, 'results': 959, 'increased': 580, 'self': 986, 'esteem': 373, 'higher': 543, 'academic': 9, 'success': 1076, 'decreased': 256, 'drop': 317, 'outs': 804, 'several': 1003, 'marks': 699, 'things': 1138, 'expected': 408, 'feed': 436, 'back': 108, 'whenever': 1228, 'having': 529, 'technical': 1110, 'won': 1245, 'improved': 573, 'justify': 637, 'lectures': 664, 'participate': 816, 'examination': 391, 'first': 449, 'came': 156, 'had': 518, 'was': 1217, 'explain': 413, 'anything': 64, 'details': 278, 'distribution': 303, 'quiz': 918, 'always': 51, 'counted': 225, 'extra': 419, 'takes': 1095, 'explanation': 415, 'were': 1224, 'distributed': 302, 'again': 40, 'another': 59, 'quizzes': 919, 'missed': 730, 'got': 502, 'poor': 851, 'despite': 277, 'tests': 1120, 'explained': 414, 'clue': 188, 'difference': 288, 'between': 140, 'assignments': 90, 'philosophy': 838, 'empirically': 342, 'measuring': 716, 'called': 155, 'testing': 1119, 'advantage': 36, 'studies': 1068, 'favorable': 434, 'disadvantage': 297, 'fulfill': 474, 'criteria': 238, 'burden': 152, 'send': 989, 'evidence': 387, 'final': 444, 'report': 948, 'high': 542, 'troublesome': 1174, 'why': 1235, 'changed': 172, 'towards': 1160, 'sector': 980, 'basically': 117, 'improves': 575, 'different': 289, 'particular': 818, 'members': 719, 'train': 1162, 'themselves': 1127, 'arranging': 80, 'interactive': 612, 'workshops': 1252, 'possible': 855, 'trained': 1163, 'insights': 598, 'clarify': 178, 'addition': 26, 'assessing': 86, 'makes': 689, 'complex': 205, 'generalized': 486, 'performances': 829, 'compared': 198, 'interested': 615, 'afraid': 38, 'attend': 98, 'knowing': 644, 'realistically': 929, 'stressful': 1058, 'current': 243, 'pleasure': 846, 'painful': 813, 'suppose': 1083, 'failed': 428, 'minimum': 728, 'sure': 1084, 'looks': 678, 'your': 1263, 'still': 1052, 'hope': 549, 'less': 665, 'tension': 1115, 'seemed': 983, 'confused': 212, 'regarding': 939, 'volatile': 1213, 'difficult': 292, 'too': 1154, 'stress': 1056, 'highest': 544, 'learners': 657, 'stands': 1048, 'extended': 417, 'options': 789, 'mostly': 736, 'hour': 550, 'doubt': 312, 'wide': 1236, 'keyword': 640, 'mapped': 695, 'industries': 585, 'identify': 561, 'talent': 1097, 'qualities': 912, 'career': 161, 'departs': 269, 'assumption': 92, 'change': 171, 'try': 1177, 'lecture': 663, 'small': 1023, 'leakings': 653, 'graduation': 507, 'major': 687, 'read': 926, 'books': 144, 'fun': 479, 'become': 123, 'worried': 1255, 'begin': 127, 'others': 796, 'pros': 901, 'cons': 214, 'material': 701, 'practise': 862, 'something': 1032, 'person': 832, 'apply': 70, 'reform': 937, 'health': 533, 'services': 998, 'stresses': 1057, 'professionalism': 886, 'brought': 150, 'necessity': 748, 'adopt': 31, 'medical': 718, 'identifies': 560, 'intended': 610, 'competencies': 200, 'determining': 280, 'head': 531, 'far': 431, 'foreign': 464, 'varsity': 1205, 'portrays': 853, 'syllabus': 1085, 'pressure': 873, 'gain': 482, 'authority': 102, 'added': 24, 'platform': 843, 'handle': 521, 'depends': 271, 'manage': 691, 'appreciate': 72, 'target': 1098, 'pain': 812, 'points': 848, 'output': 803, 'identifying': 562, 'going': 500, 'faced': 422, 'effort': 335, 'word': 1247, 'disgusting': 301, 'weakness': 1222, 'guide': 514, 'myself': 744, 'bring': 149, 'add': 23, 'headache': 532, 'adding': 25, 'seems': 984, 'short': 1008, 'miserable': 729, 'hate': 527, 'remove': 945, 'overview': 809, 'perfectly': 826, 'wonder': 1246, 'searching': 978, 'differs': 291, 'overcome': 807, 'platforms': 844, 'shall': 1004, 'implemented': 566, 'attained': 95, 'enjoyed': 357, 'enlightened': 358, 'newer': 754, 'concepts': 209, 'perspective': 835, 'could': 223, 'delivery': 266, 'lacking': 646, 'practice': 861, 'watching': 1218, 'taxonomies': 1104, 'gave': 485, 'background': 109, 'information': 588, 'engage': 350, 'stakeholders': 1044, 'software': 1028, 'projects': 895, 'unusual': 1193, 'while': 1232, 'scenario': 972, 'sectors': 981, 'emphasized': 340, 'enhance': 355, 'learner': 656, 'driven': 316, 'aimed': 43, 'establish': 372, 'vision': 1211, 'desired': 276, 'embedded': 338, 'paper': 814, 'review': 961, 'origin': 794, 'disadvantages': 298, 'pitfalls': 840, 'guidelines': 515, 'attempt': 97, 'comprehensive': 207, 'coverage': 232, 'popular': 852, 'trend': 1171, 'picture': 839, 'changing': 174, '01st': 0, 'century': 164, 'schools': 975, 'colleges': 193, 'classroom': 182, 'setups': 1002, 'highly': 545, 'taught': 1103, 'fixed': 451, 'shift': 1006, 'classrooms': 183, 'abilities': 3, 'acquired': 19, 'degrees': 265, 'prove': 902, 'behavioral': 129, 'changes': 173, 'challenging': 169, 'order': 791, 'ensure': 364, 'capable': 159, 'produce': 881, 'market': 697, 'sets': 1000, 'skillful': 1021, 'cases': 162, 'right': 964, 'couldn': 224, 'sensible': 992, 'rise': 965, 'inner': 594, 'profile': 888, 'taking': 1096, 'attentive': 100, 'fix': 450, 'memorize': 720, 'reproduce': 950, 'analyze': 57, 'synthesize': 1087, 'research': 954, 'decisions': 254, 'findings': 446, 'simple': 1014, 'equipped': 369, 'competence': 199, 'successful': 1077, 'exit': 403, 'structures': 1065, 'operates': 783, 'programs': 893, 'those': 1143, 'maximized': 705, 'obviously': 770, 'option': 788, 'perhaps': 830, 'exciting': 400, 'potentially': 858, 'curricular': 246, 'innovation': 596, 'college': 192, 'systemic': 1090, 'predetermined': 864, 'purpose': 908, 'tell': 1114, 'appropriate': 75, 'permitted': 831, 'numerous': 762, 'encourage': 347, 'linked': 673, 'closely': 187, 'promotes': 897, 'strong': 1061, 'breakthrough': 148, 'guides': 516, 'potential': 857, 'adopts': 34, 'theories': 1130, 'assurance': 93, 'encountered': 346, 'realist': 928, 'observations': 768, 'serious': 996, 'profession': 884, 'helped': 535, 'growth': 511, 'interaction': 611, 'cover': 231, 'manner': 693, 'presenter': 871, 'educated': 324, 'informative': 589, 'educative': 328, 'happy': 523, 'enrolled': 363, 'huge': 553, 'deeper': 258, 'few': 440, 'ideas': 559, 'clarity': 179, 'initiatives': 593, 'cleared': 185, 'doubts': 313, 'hence': 539, 'easy': 323, 'motivates': 738, 'put': 909, 'believe': 132, 'made': 682, 'interesting': 616, 'match': 700, 'disappointing': 299, 'faces': 423, 'resources': 956, 'relevant': 944, 'times': 1150, 'elaborated': 336, 'expert': 412, 'definitely': 263, 'generation': 488, 'choice': 175, 'entails': 367, 'sequenced': 995, 'found': 470, 'applying': 71, 'light': 670, 'aspects': 83, 'extremely': 420, 'enlightening': 359, 'set': 999, 'path': 824, 'views': 1210, 'excellent': 397, 'step': 1051, 'getting': 490, 'beginner': 128, 'enriched': 362, 're': 924, 'exactly': 389, 'addressing': 27, 'aware': 105, 'captivating': 160, 'exited': 404, 'continue': 218, 'absorb': 8, 'verifies': 1206, 'taken': 1094, 'qualified': 911, 'allow': 45, 'critically': 240, 'generates': 487, 'transparent': 1170, 'top': 1156, 'expect': 405, 'throughout': 1147, 'argued': 78, 'reasons': 932, 'past': 823, 'two': 1178, 'decades': 253, 'specification': 1039, 'associated': 91, 'full': 477, 'technicality': 1111, 'semesters': 988, 'tri': 1172, 'semester': 987, 'stronger': 1062, 'puts': 910, 'suddenly': 1080, 'writing': 1258, 'sentences': 993, 'senses': 991, 'learnt': 661, 'marking': 698, 'experienced': 410, 'open': 780, 'secret': 979, 'evolution': 388, 'fulfilled': 475, 'reach': 925, 'alright': 49, 'boring': 145, 'endure': 349, 'till': 1148, 'point': 847, 'view': 1209, 'enhanced': 356, 'exceptional': 398, 'amazing': 53, 'scenarios': 973, 'structured': 1064, 'examples': 395, 'perspectives': 836, 'internal': 618, 'complete': 203, 'administrative': 28, 'processes': 880, 'maintained': 686, 'keeping': 638, 'solved': 1029, 'wanted': 1215, 'insight': 597, 'exceptionally': 399, 'designed': 275, 'professionals': 887, 'engaged': 351, 'industry': 586, 'willing': 1239, 'join': 633, 'sooner': 1034, 'later': 650, 'cut': 249, 'downs': 314, 'smaller': 1024, 'chunks': 177, 'easier': 321, 'comprehend': 206, 'applied': 68, 'mind': 727, 'impressive': 571, 'provider': 905, 'big': 141, 'deep': 257, 'love': 681, 'aylt': 106, 'felt': 439, 'conflict': 211, 'resolution': 955, 'communication': 197, 'digital': 295, 'age': 41, 'connected': 213, 'especially': 370, 'brain': 147, 'smile': 1025, 'inspired': 599, 'motivated': 737, 'educator': 329, 'stuffs': 1070, 'types': 1179, 'task': 1101, 'specifically': 1038, 'gained': 483, 'form': 467, 'profitable': 889, 'otherwise': 797, 'covered': 233, 'existing': 402, 'methodologies': 724, 'strategies': 1054, 'proposed': 900, 'true': 1175, 'leadership': 651, 'enable': 344, 'practitioners': 863, 'combat': 194, 'challenges': 168, 'thins': 1141, 'intermediate': 617, 'evalluation': 374, 'allows': 46, 'spacific': 1035, 'rules': 967, 'regulations': 940, 'situation': 1017, 'flow': 454, 'hand': 520, 'humble': 556, 'opinion': 785, 'agree': 42, 'wish': 1242, 'unintended': 1190, 'overlooked': 808, 'stated': 1050, 'extent': 418, 'considered': 215, 'pretty': 874, 'reputation': 951, 'evaluted': 380, 'kinds': 642, 'policies': 849, 'advance': 35, 'dimension': 296, 'sytem': 1092, 'choise': 176, 'interest': 614, 'bcause': 120, 'meaningfull': 711, 'ibe': 557, 'efficiently': 334, 'fill': 443, 'difficulties': 293, 'learnig': 658, 'internationally': 619, 'gather': 484, 'build': 151, 'innovate': 595, 'uderstand': 1180, 'wisely': 1241, 'memorizing': 721, 'depth': 272, 'increasing': 582, 'curriculam': 245, 'srudents': 1043, 'expectations': 407, 'undergraduate': 1184, 'graduate': 506, 'key': 639, 'feature': 435, 'number': 761, 'developers': 283, 'administrators': 29, 'providing': 907, 'strategic': 1053, 'approval': 76, 'mechanism': 717, 'ensuring': 366, 'articulate': 81, 'collaborative': 191, 'tool': 1155, 'improving': 576, 'continuity': 220, 'postgraduate': 856, 'continuing': 219, 'promising': 896, 'prerequisite': 869, 'project': 894, 'nicely': 755, 'segmented': 985, 'see': 982, 'participation': 817, 'rate': 922, 'maximum': 706, 'forgot': 465, 'object': 764, 'figure': 442, 'decrease': 255, 'dropouts': 318, 'completing': 204, 'assignment': 89, 'assessed': 85, 'shine': 1007, 'define': 260, 'productive': 883, 'differentiate': 290, 'application': 66, 'whole': 1234, 'materials': 702, 'evaluations': 379, '10': 1, '15': 2, 'usual': 1202, 'grading': 505, 'policy': 850, 'perform': 827, 'truly': 1176, 'learns': 660, 'deserving': 274, 'enables': 345, 'force': 463, 'fully': 478, 'indeed': 583, 'baed': 111, 'goes': 499, 'curricullam': 247, 'playing': 845, 'flexibility': 452, 'flexible': 453, 'observation': 767, 'situations': 1018, 'maintain': 685, 'bachelor': 107, 'degree': 264}\n"
          ],
          "name": "stdout"
        }
      ]
    },
    {
      "cell_type": "code",
      "metadata": {
        "id": "Wk9cQpNssjev"
      },
      "source": [
        "bag_of_words=vect.transform(data['Sentence'])\n"
      ],
      "execution_count": 51,
      "outputs": []
    },
    {
      "cell_type": "code",
      "metadata": {
        "id": "AM1dEzZ1sls_",
        "outputId": "4e9cd8bf-f883-451d-b20a-c4aa99c738bd",
        "colab": {
          "base_uri": "https://localhost:8080/"
        }
      },
      "source": [
        "print(bag_of_words)\n",
        "\n"
      ],
      "execution_count": 52,
      "outputs": [
        {
          "output_type": "stream",
          "text": [
            "  (0, 501)\t1\n",
            "  (0, 627)\t1\n",
            "  (1, 157)\t1\n",
            "  (1, 634)\t1\n",
            "  (1, 899)\t1\n",
            "  (1, 1088)\t1\n",
            "  (1, 1107)\t1\n",
            "  (1, 1142)\t1\n",
            "  (1, 1146)\t1\n",
            "  (1, 1195)\t1\n",
            "  (2, 11)\t1\n",
            "  (2, 121)\t1\n",
            "  (2, 154)\t1\n",
            "  (2, 184)\t1\n",
            "  (2, 229)\t1\n",
            "  (2, 235)\t1\n",
            "  (2, 348)\t1\n",
            "  (2, 406)\t1\n",
            "  (2, 455)\t1\n",
            "  (2, 751)\t1\n",
            "  (2, 771)\t2\n",
            "  (2, 776)\t1\n",
            "  (2, 802)\t1\n",
            "  (2, 1124)\t3\n",
            "  (2, 1151)\t1\n",
            "  :\t:\n",
            "  (594, 623)\t1\n",
            "  (594, 771)\t2\n",
            "  (594, 794)\t1\n",
            "  (594, 801)\t1\n",
            "  (594, 814)\t1\n",
            "  (594, 840)\t1\n",
            "  (594, 870)\t1\n",
            "  (594, 961)\t1\n",
            "  (594, 1124)\t2\n",
            "  (595, 55)\t1\n",
            "  (595, 97)\t1\n",
            "  (595, 207)\t1\n",
            "  (595, 232)\t1\n",
            "  (595, 243)\t1\n",
            "  (595, 325)\t1\n",
            "  (595, 577)\t1\n",
            "  (595, 623)\t1\n",
            "  (595, 627)\t1\n",
            "  (595, 718)\t1\n",
            "  (595, 771)\t1\n",
            "  (595, 852)\t1\n",
            "  (595, 904)\t1\n",
            "  (595, 1151)\t1\n",
            "  (595, 1171)\t1\n",
            "  (595, 1207)\t1\n"
          ],
          "name": "stdout"
        }
      ]
    },
    {
      "cell_type": "code",
      "metadata": {
        "id": "ag0f96fVsoJp",
        "outputId": "4c3784ce-5924-44e1-d528-f0e1b93599e5",
        "colab": {
          "base_uri": "https://localhost:8080/"
        }
      },
      "source": [
        "print(\"bag_of_worda as array:\\n{}\".format(bag_of_words.toarray()))"
      ],
      "execution_count": 53,
      "outputs": [
        {
          "output_type": "stream",
          "text": [
            "bag_of_worda as array:\n",
            "[[0 0 0 ... 0 0 0]\n",
            " [0 0 0 ... 0 0 0]\n",
            " [0 0 0 ... 0 0 0]\n",
            " ...\n",
            " [0 0 0 ... 0 0 0]\n",
            " [0 0 0 ... 0 0 0]\n",
            " [0 0 0 ... 0 0 0]]\n"
          ],
          "name": "stdout"
        }
      ]
    },
    {
      "cell_type": "code",
      "metadata": {
        "id": "Zf5x2H_KsqHJ",
        "outputId": "a5ecbb90-8db3-44c0-8f84-6d594344cf4c",
        "colab": {
          "base_uri": "https://localhost:8080/"
        }
      },
      "source": [
        "vect.get_feature_names()"
      ],
      "execution_count": 54,
      "outputs": [
        {
          "output_type": "execute_result",
          "data": {
            "text/plain": [
              "['01st',\n",
              " '10',\n",
              " '15',\n",
              " 'abilities',\n",
              " 'ability',\n",
              " 'able',\n",
              " 'about',\n",
              " 'abroad',\n",
              " 'absorb',\n",
              " 'academic',\n",
              " 'accept',\n",
              " 'accomplished',\n",
              " 'accountability',\n",
              " 'accreditation',\n",
              " 'achieve',\n",
              " 'achieved',\n",
              " 'achievement',\n",
              " 'achieving',\n",
              " 'achive',\n",
              " 'acquired',\n",
              " 'actual',\n",
              " 'actually',\n",
              " 'adapts',\n",
              " 'add',\n",
              " 'added',\n",
              " 'adding',\n",
              " 'addition',\n",
              " 'addressing',\n",
              " 'administrative',\n",
              " 'administrators',\n",
              " 'admiring',\n",
              " 'adopt',\n",
              " 'adopted',\n",
              " 'adoption',\n",
              " 'adopts',\n",
              " 'advance',\n",
              " 'advantage',\n",
              " 'advantages',\n",
              " 'afraid',\n",
              " 'after',\n",
              " 'again',\n",
              " 'age',\n",
              " 'agree',\n",
              " 'aimed',\n",
              " 'all',\n",
              " 'allow',\n",
              " 'allows',\n",
              " 'along',\n",
              " 'already',\n",
              " 'alright',\n",
              " 'also',\n",
              " 'always',\n",
              " 'am',\n",
              " 'amazing',\n",
              " 'among',\n",
              " 'an',\n",
              " 'analysis',\n",
              " 'analyze',\n",
              " 'and',\n",
              " 'another',\n",
              " 'answer',\n",
              " 'answering',\n",
              " 'answers',\n",
              " 'any',\n",
              " 'anything',\n",
              " 'appeal',\n",
              " 'application',\n",
              " 'applications',\n",
              " 'applied',\n",
              " 'applies',\n",
              " 'apply',\n",
              " 'applying',\n",
              " 'appreciate',\n",
              " 'approach',\n",
              " 'approaches',\n",
              " 'appropriate',\n",
              " 'approval',\n",
              " 'are',\n",
              " 'argued',\n",
              " 'around',\n",
              " 'arranging',\n",
              " 'articulate',\n",
              " 'as',\n",
              " 'aspects',\n",
              " 'assess',\n",
              " 'assessed',\n",
              " 'assessing',\n",
              " 'assessment',\n",
              " 'assessments',\n",
              " 'assignment',\n",
              " 'assignments',\n",
              " 'associated',\n",
              " 'assumption',\n",
              " 'assurance',\n",
              " 'at',\n",
              " 'attained',\n",
              " 'attainment',\n",
              " 'attempt',\n",
              " 'attend',\n",
              " 'attending',\n",
              " 'attentive',\n",
              " 'attitudes',\n",
              " 'authority',\n",
              " 'authorization',\n",
              " 'average',\n",
              " 'aware',\n",
              " 'aylt',\n",
              " 'bachelor',\n",
              " 'back',\n",
              " 'background',\n",
              " 'bad',\n",
              " 'baed',\n",
              " 'bangladesh',\n",
              " 'base',\n",
              " 'based',\n",
              " 'bases',\n",
              " 'basic',\n",
              " 'basically',\n",
              " 'basics',\n",
              " 'basis',\n",
              " 'bcause',\n",
              " 'be',\n",
              " 'because',\n",
              " 'become',\n",
              " 'becomes',\n",
              " 'been',\n",
              " 'beforehand',\n",
              " 'begin',\n",
              " 'beginner',\n",
              " 'behavioral',\n",
              " 'behind',\n",
              " 'being',\n",
              " 'believe',\n",
              " 'benchmarks',\n",
              " 'beneficial',\n",
              " 'benefited',\n",
              " 'benefits',\n",
              " 'best',\n",
              " 'better',\n",
              " 'betterment',\n",
              " 'between',\n",
              " 'big',\n",
              " 'bit',\n",
              " 'book',\n",
              " 'books',\n",
              " 'boring',\n",
              " 'both',\n",
              " 'brain',\n",
              " 'breakthrough',\n",
              " 'bring',\n",
              " 'brought',\n",
              " 'build',\n",
              " 'burden',\n",
              " 'but',\n",
              " 'by',\n",
              " 'called',\n",
              " 'came',\n",
              " 'can',\n",
              " 'capability',\n",
              " 'capable',\n",
              " 'captivating',\n",
              " 'career',\n",
              " 'cases',\n",
              " 'centered',\n",
              " 'century',\n",
              " 'certain',\n",
              " 'certificate',\n",
              " 'challanging',\n",
              " 'challenges',\n",
              " 'challenging',\n",
              " 'chance',\n",
              " 'change',\n",
              " 'changed',\n",
              " 'changes',\n",
              " 'changing',\n",
              " 'choice',\n",
              " 'choise',\n",
              " 'chunks',\n",
              " 'clarify',\n",
              " 'clarity',\n",
              " 'class',\n",
              " 'classes',\n",
              " 'classroom',\n",
              " 'classrooms',\n",
              " 'clear',\n",
              " 'cleared',\n",
              " 'clearly',\n",
              " 'closely',\n",
              " 'clue',\n",
              " 'code',\n",
              " 'coding',\n",
              " 'collaborative',\n",
              " 'college',\n",
              " 'colleges',\n",
              " 'combat',\n",
              " 'come',\n",
              " 'common',\n",
              " 'communication',\n",
              " 'compared',\n",
              " 'competence',\n",
              " 'competencies',\n",
              " 'competency',\n",
              " 'compiler',\n",
              " 'complete',\n",
              " 'completing',\n",
              " 'complex',\n",
              " 'comprehend',\n",
              " 'comprehensive',\n",
              " 'concept',\n",
              " 'concepts',\n",
              " 'concur',\n",
              " 'conflict',\n",
              " 'confused',\n",
              " 'connected',\n",
              " 'cons',\n",
              " 'considered',\n",
              " 'constraints',\n",
              " 'content',\n",
              " 'continue',\n",
              " 'continuing',\n",
              " 'continuity',\n",
              " 'contribute',\n",
              " 'core',\n",
              " 'could',\n",
              " 'couldn',\n",
              " 'counted',\n",
              " 'counterparts',\n",
              " 'countries',\n",
              " 'country',\n",
              " 'course',\n",
              " 'courses',\n",
              " 'cover',\n",
              " 'coverage',\n",
              " 'covered',\n",
              " 'create',\n",
              " 'creates',\n",
              " 'creative',\n",
              " 'creativity',\n",
              " 'criteria',\n",
              " 'critical',\n",
              " 'critically',\n",
              " 'crying',\n",
              " 'curiosity',\n",
              " 'current',\n",
              " 'curricula',\n",
              " 'curriculam',\n",
              " 'curricular',\n",
              " 'curricullam',\n",
              " 'curriculum',\n",
              " 'cut',\n",
              " 'cv',\n",
              " 'day',\n",
              " 'days',\n",
              " 'decades',\n",
              " 'decisions',\n",
              " 'decrease',\n",
              " 'decreased',\n",
              " 'deep',\n",
              " 'deeper',\n",
              " 'deeply',\n",
              " 'define',\n",
              " 'defined',\n",
              " 'defining',\n",
              " 'definitely',\n",
              " 'degree',\n",
              " 'degrees',\n",
              " 'delivery',\n",
              " 'demands',\n",
              " 'demonstrate',\n",
              " 'departs',\n",
              " 'depend',\n",
              " 'depends',\n",
              " 'depth',\n",
              " 'descriptive',\n",
              " 'deserving',\n",
              " 'designed',\n",
              " 'desired',\n",
              " 'despite',\n",
              " 'details',\n",
              " 'determine',\n",
              " 'determining',\n",
              " 'develop',\n",
              " 'developed',\n",
              " 'developers',\n",
              " 'developing',\n",
              " 'development',\n",
              " 'didn',\n",
              " 'differ',\n",
              " 'difference',\n",
              " 'different',\n",
              " 'differentiate',\n",
              " 'differs',\n",
              " 'difficult',\n",
              " 'difficulties',\n",
              " 'difficulty',\n",
              " 'digital',\n",
              " 'dimension',\n",
              " 'disadvantage',\n",
              " 'disadvantages',\n",
              " 'disappointing',\n",
              " 'discussions',\n",
              " 'disgusting',\n",
              " 'distributed',\n",
              " 'distribution',\n",
              " 'diversity',\n",
              " 'do',\n",
              " 'does',\n",
              " 'doesn',\n",
              " 'doing',\n",
              " 'don',\n",
              " 'done',\n",
              " 'donn',\n",
              " 'doubt',\n",
              " 'doubts',\n",
              " 'downs',\n",
              " 'drive',\n",
              " 'driven',\n",
              " 'drop',\n",
              " 'dropouts',\n",
              " 'during',\n",
              " 'each',\n",
              " 'easier',\n",
              " 'easily',\n",
              " 'easy',\n",
              " 'educated',\n",
              " 'education',\n",
              " 'educational',\n",
              " 'educationsystem',\n",
              " 'educative',\n",
              " 'educator',\n",
              " 'educators',\n",
              " 'effect',\n",
              " 'effective',\n",
              " 'efficient',\n",
              " 'efficiently',\n",
              " 'effort',\n",
              " 'elaborated',\n",
              " 'eligible',\n",
              " 'embedded',\n",
              " 'emphasize',\n",
              " 'emphasized',\n",
              " 'emphasizes',\n",
              " 'empirically',\n",
              " 'empowers',\n",
              " 'enable',\n",
              " 'enables',\n",
              " 'encountered',\n",
              " 'encourage',\n",
              " 'end',\n",
              " 'endure',\n",
              " 'engage',\n",
              " 'engaged',\n",
              " 'engagement',\n",
              " 'engages',\n",
              " 'engineering',\n",
              " 'enhance',\n",
              " 'enhanced',\n",
              " 'enjoyed',\n",
              " 'enlightened',\n",
              " 'enlightening',\n",
              " 'enough',\n",
              " 'enrich',\n",
              " 'enriched',\n",
              " 'enrolled',\n",
              " 'ensure',\n",
              " 'ensures',\n",
              " 'ensuring',\n",
              " 'entails',\n",
              " 'environment',\n",
              " 'equipped',\n",
              " 'especially',\n",
              " 'essential',\n",
              " 'establish',\n",
              " 'esteem',\n",
              " 'evalluation',\n",
              " 'evaluate',\n",
              " 'evaluates',\n",
              " 'evaluating',\n",
              " 'evaluation',\n",
              " 'evaluations',\n",
              " 'evaluted',\n",
              " 'evalution',\n",
              " 'even',\n",
              " 'ever',\n",
              " 'every',\n",
              " 'everyone',\n",
              " 'everything',\n",
              " 'evidence',\n",
              " 'evolution',\n",
              " 'exactly',\n",
              " 'exam',\n",
              " 'examination',\n",
              " 'examines',\n",
              " 'examining',\n",
              " 'example',\n",
              " 'examples',\n",
              " 'exams',\n",
              " 'excellent',\n",
              " 'exceptional',\n",
              " 'exceptionally',\n",
              " 'exciting',\n",
              " 'exercises',\n",
              " 'existing',\n",
              " 'exit',\n",
              " 'exited',\n",
              " 'expect',\n",
              " 'expectation',\n",
              " 'expectations',\n",
              " 'expected',\n",
              " 'experience',\n",
              " 'experienced',\n",
              " 'experiences',\n",
              " 'expert',\n",
              " 'explain',\n",
              " 'explained',\n",
              " 'explanation',\n",
              " 'expressions',\n",
              " 'extended',\n",
              " 'extent',\n",
              " 'extra',\n",
              " 'extremely',\n",
              " 'face',\n",
              " 'faced',\n",
              " 'faces',\n",
              " 'facilitator',\n",
              " 'fact',\n",
              " 'factors',\n",
              " 'faculty',\n",
              " 'failed',\n",
              " 'failing',\n",
              " 'familiar',\n",
              " 'far',\n",
              " 'faul',\n",
              " 'favor',\n",
              " 'favorable',\n",
              " 'feature',\n",
              " 'feed',\n",
              " 'feedback',\n",
              " 'feel',\n",
              " 'felt',\n",
              " 'few',\n",
              " 'field',\n",
              " 'figure',\n",
              " 'fill',\n",
              " 'final',\n",
              " 'find',\n",
              " 'findings',\n",
              " 'finish',\n",
              " 'finished',\n",
              " 'first',\n",
              " 'fix',\n",
              " 'fixed',\n",
              " 'flexibility',\n",
              " 'flexible',\n",
              " 'flow',\n",
              " 'focus',\n",
              " 'focused',\n",
              " 'focuses',\n",
              " 'focusing',\n",
              " 'follow',\n",
              " 'followed',\n",
              " 'following',\n",
              " 'for',\n",
              " 'force',\n",
              " 'foreign',\n",
              " 'forgot',\n",
              " 'forklift',\n",
              " 'form',\n",
              " 'formally',\n",
              " 'format',\n",
              " 'found',\n",
              " 'framework',\n",
              " 'free',\n",
              " 'from',\n",
              " 'fulfill',\n",
              " 'fulfilled',\n",
              " 'fulfillness',\n",
              " 'full',\n",
              " 'fully',\n",
              " 'fun',\n",
              " 'furthermore',\n",
              " 'future',\n",
              " 'gain',\n",
              " 'gained',\n",
              " 'gather',\n",
              " 'gave',\n",
              " 'generalized',\n",
              " 'generates',\n",
              " 'generation',\n",
              " 'get',\n",
              " 'getting',\n",
              " 'give',\n",
              " 'given',\n",
              " 'gives',\n",
              " 'giving',\n",
              " 'global',\n",
              " 'go',\n",
              " 'goal',\n",
              " 'goals',\n",
              " 'goes',\n",
              " 'going',\n",
              " 'good',\n",
              " 'got',\n",
              " 'grade',\n",
              " 'grades',\n",
              " 'grading',\n",
              " 'graduate',\n",
              " 'graduation',\n",
              " 'great',\n",
              " 'greater',\n",
              " 'growing',\n",
              " 'growth',\n",
              " 'guess',\n",
              " 'guidance',\n",
              " 'guide',\n",
              " 'guidelines',\n",
              " 'guides',\n",
              " 'guilty',\n",
              " 'had',\n",
              " 'hall',\n",
              " 'hand',\n",
              " 'handle',\n",
              " 'handled',\n",
              " 'happy',\n",
              " 'hard',\n",
              " 'harder',\n",
              " 'has',\n",
              " 'hate',\n",
              " 'have',\n",
              " 'having',\n",
              " 'he',\n",
              " 'head',\n",
              " 'headache',\n",
              " 'health',\n",
              " 'help',\n",
              " 'helped',\n",
              " 'helpful',\n",
              " 'helping',\n",
              " 'helps',\n",
              " 'hence',\n",
              " 'her',\n",
              " 'here',\n",
              " 'high',\n",
              " 'higher',\n",
              " 'highest',\n",
              " 'highly',\n",
              " 'his',\n",
              " 'history',\n",
              " 'honestly',\n",
              " 'hope',\n",
              " 'hour',\n",
              " 'how',\n",
              " 'however',\n",
              " 'huge',\n",
              " 'hugely',\n",
              " 'humanities',\n",
              " 'humble',\n",
              " 'ibe',\n",
              " 'idea',\n",
              " 'ideas',\n",
              " 'identifies',\n",
              " 'identify',\n",
              " 'identifying',\n",
              " 'if',\n",
              " 'impact',\n",
              " 'implementation',\n",
              " 'implemented',\n",
              " 'implementing',\n",
              " 'importance',\n",
              " 'important',\n",
              " 'impossible',\n",
              " 'impressive',\n",
              " 'improve',\n",
              " 'improved',\n",
              " 'improvement',\n",
              " 'improves',\n",
              " 'improving',\n",
              " 'in',\n",
              " 'included',\n",
              " 'increase',\n",
              " 'increased',\n",
              " 'increases',\n",
              " 'increasing',\n",
              " 'indeed',\n",
              " 'individual',\n",
              " 'industries',\n",
              " 'industry',\n",
              " 'informally',\n",
              " 'information',\n",
              " 'informative',\n",
              " 'informed',\n",
              " 'initially',\n",
              " 'initiative',\n",
              " 'initiatives',\n",
              " 'inner',\n",
              " 'innovate',\n",
              " 'innovation',\n",
              " 'insight',\n",
              " 'insights',\n",
              " 'inspired',\n",
              " 'inspite',\n",
              " 'instead',\n",
              " 'institutions',\n",
              " 'instructed',\n",
              " 'instruction',\n",
              " 'instructional',\n",
              " 'instructor',\n",
              " 'instructors',\n",
              " 'insuring',\n",
              " 'intellectual',\n",
              " 'intended',\n",
              " 'interaction',\n",
              " 'interactive',\n",
              " 'interchangeably',\n",
              " 'interest',\n",
              " 'interested',\n",
              " 'interesting',\n",
              " 'intermediate',\n",
              " 'internal',\n",
              " 'internationally',\n",
              " 'interpersonal',\n",
              " 'into',\n",
              " 'intuitive',\n",
              " 'is',\n",
              " 'isn',\n",
              " 'issue',\n",
              " 'issues',\n",
              " 'it',\n",
              " 'item',\n",
              " 'its',\n",
              " 'itself',\n",
              " 'job',\n",
              " 'jobs',\n",
              " 'join',\n",
              " 'judge',\n",
              " 'judging',\n",
              " 'just',\n",
              " 'justify',\n",
              " 'keeping',\n",
              " 'key',\n",
              " 'keyword',\n",
              " 'kind',\n",
              " 'kinds',\n",
              " 'know',\n",
              " 'knowing',\n",
              " 'knowledge',\n",
              " 'lacking',\n",
              " 'lackings',\n",
              " 'language',\n",
              " 'last',\n",
              " 'later',\n",
              " 'leadership',\n",
              " 'leading',\n",
              " 'leakings',\n",
              " 'learn',\n",
              " 'learned',\n",
              " 'learner',\n",
              " 'learners',\n",
              " 'learnig',\n",
              " 'learning',\n",
              " 'learns',\n",
              " 'learnt',\n",
              " 'leaving',\n",
              " 'lecture',\n",
              " 'lectures',\n",
              " 'less',\n",
              " 'lessons',\n",
              " 'level',\n",
              " 'liberal',\n",
              " 'life',\n",
              " 'light',\n",
              " 'lightly',\n",
              " 'like',\n",
              " 'linked',\n",
              " 'little',\n",
              " 'logic',\n",
              " 'long',\n",
              " 'looking',\n",
              " 'looks',\n",
              " 'lot',\n",
              " 'lots',\n",
              " 'love',\n",
              " 'made',\n",
              " 'main',\n",
              " 'mainly',\n",
              " 'maintain',\n",
              " 'maintained',\n",
              " 'major',\n",
              " 'make',\n",
              " 'makes',\n",
              " 'making',\n",
              " 'manage',\n",
              " 'mandatory',\n",
              " 'manner',\n",
              " 'many',\n",
              " 'mapped',\n",
              " 'mark',\n",
              " 'market',\n",
              " 'marking',\n",
              " 'marks',\n",
              " 'match',\n",
              " 'material',\n",
              " 'materials',\n",
              " 'mathematics',\n",
              " 'matter',\n",
              " 'maximized',\n",
              " 'maximum',\n",
              " 'may',\n",
              " 'me',\n",
              " 'mean',\n",
              " 'meaningful',\n",
              " 'meaningfull',\n",
              " 'means',\n",
              " 'measurable',\n",
              " 'measure',\n",
              " 'measured',\n",
              " 'measuring',\n",
              " 'mechanism',\n",
              " 'medical',\n",
              " 'members',\n",
              " 'memorize',\n",
              " 'memorizing',\n",
              " 'mentor',\n",
              " 'method',\n",
              " 'methodologies',\n",
              " 'methodology',\n",
              " 'methods',\n",
              " 'mind',\n",
              " 'minimum',\n",
              " 'miserable',\n",
              " 'missed',\n",
              " 'model',\n",
              " 'monitor',\n",
              " 'moral',\n",
              " 'more',\n",
              " 'most',\n",
              " 'mostly',\n",
              " 'motivated',\n",
              " 'motivates',\n",
              " 'move',\n",
              " 'much',\n",
              " 'music',\n",
              " 'must',\n",
              " 'my',\n",
              " 'myself',\n",
              " 'nature',\n",
              " 'nearly',\n",
              " 'necessary',\n",
              " 'necessity',\n",
              " 'need',\n",
              " 'needed',\n",
              " 'needs',\n",
              " 'negative',\n",
              " 'new',\n",
              " 'newer',\n",
              " 'nicely',\n",
              " 'no',\n",
              " 'normal',\n",
              " 'not',\n",
              " 'nothing',\n",
              " 'now',\n",
              " 'number',\n",
              " 'numerous',\n",
              " 'obe',\n",
              " 'object',\n",
              " 'oblige',\n",
              " 'observable',\n",
              " 'observation',\n",
              " 'observations',\n",
              " 'obvious',\n",
              " 'obviously',\n",
              " 'of',\n",
              " 'off',\n",
              " 'offers',\n",
              " 'oftentimes',\n",
              " 'okay',\n",
              " 'on',\n",
              " 'one',\n",
              " 'ongoing',\n",
              " 'only',\n",
              " 'open',\n",
              " 'openion',\n",
              " 'operated',\n",
              " 'operates',\n",
              " 'operating',\n",
              " 'opinion',\n",
              " 'opportunities',\n",
              " 'opportunity',\n",
              " 'option',\n",
              " 'options',\n",
              " 'or',\n",
              " 'order',\n",
              " 'organizational',\n",
              " 'organizing',\n",
              " 'origin',\n",
              " 'other',\n",
              " 'others',\n",
              " 'otherwise',\n",
              " 'our',\n",
              " 'ourself',\n",
              " 'out',\n",
              " 'outcome',\n",
              " 'outcomes',\n",
              " 'output',\n",
              " 'outs',\n",
              " 'over',\n",
              " 'overall',\n",
              " 'overcome',\n",
              " 'overlooked',\n",
              " 'overview',\n",
              " 'own',\n",
              " 'page',\n",
              " 'pain',\n",
              " 'painful',\n",
              " 'paper',\n",
              " 'part',\n",
              " 'participate',\n",
              " 'participation',\n",
              " 'particular',\n",
              " 'particularly',\n",
              " 'parts',\n",
              " 'pass',\n",
              " 'passed',\n",
              " 'past',\n",
              " 'path',\n",
              " 'perfect',\n",
              " 'perfectly',\n",
              " 'perform',\n",
              " 'performance',\n",
              " 'performances',\n",
              " 'perhaps',\n",
              " 'permitted',\n",
              " 'person',\n",
              " 'personal',\n",
              " 'personally',\n",
              " 'perspective',\n",
              " 'perspectives',\n",
              " 'phase',\n",
              " 'philosophy',\n",
              " 'picture',\n",
              " 'pitfalls',\n",
              " 'plan',\n",
              " 'planning',\n",
              " 'platform',\n",
              " 'platforms',\n",
              " 'playing',\n",
              " 'pleasure',\n",
              " 'point',\n",
              " 'points',\n",
              " 'policies',\n",
              " 'policy',\n",
              " 'poor',\n",
              " 'popular',\n",
              " 'portrays',\n",
              " 'positive',\n",
              " 'possible',\n",
              " 'postgraduate',\n",
              " 'potential',\n",
              " 'potentially',\n",
              " 'powerful',\n",
              " 'practical',\n",
              " 'practice',\n",
              " 'practise',\n",
              " 'practitioners',\n",
              " 'predetermined',\n",
              " 'prefer',\n",
              " 'preferably',\n",
              " 'prepare',\n",
              " 'preparing',\n",
              " 'prerequisite',\n",
              " 'present',\n",
              " 'presenter',\n",
              " 'presenting',\n",
              " 'pressure',\n",
              " 'pretty',\n",
              " 'problem',\n",
              " 'problematic',\n",
              " 'problems',\n",
              " 'procedure',\n",
              " 'process',\n",
              " 'processes',\n",
              " 'produce',\n",
              " 'product',\n",
              " 'productive',\n",
              " 'profession',\n",
              " 'professional',\n",
              " 'professionalism',\n",
              " 'professionals',\n",
              " 'profile',\n",
              " 'profitable',\n",
              " 'program',\n",
              " 'programme',\n",
              " 'programming',\n",
              " 'programs',\n",
              " 'project',\n",
              " 'projects',\n",
              " 'promising',\n",
              " 'promotes',\n",
              " 'proper',\n",
              " 'properly',\n",
              " 'proposed',\n",
              " 'pros',\n",
              " 'prove',\n",
              " 'proven',\n",
              " 'provide',\n",
              " 'provider',\n",
              " 'provides',\n",
              " 'providing',\n",
              " 'purpose',\n",
              " 'put',\n",
              " 'puts',\n",
              " 'qualified',\n",
              " 'qualities',\n",
              " 'quality',\n",
              " 'question',\n",
              " 'questions',\n",
              " 'quiet',\n",
              " 'quite',\n",
              " 'quiz',\n",
              " 'quizzes',\n",
              " 'raise',\n",
              " 'raising',\n",
              " 'rate',\n",
              " 'rather',\n",
              " 're',\n",
              " 'reach',\n",
              " 'read',\n",
              " 'real',\n",
              " 'realist',\n",
              " 'realistically',\n",
              " 'really',\n",
              " 'reason',\n",
              " 'reasons',\n",
              " 'recognised',\n",
              " 'recognize',\n",
              " 'referring',\n",
              " 'reflexive',\n",
              " 'reform',\n",
              " 'reforms',\n",
              " 'regarding',\n",
              " 'regulations',\n",
              " 'rejects',\n",
              " 'related',\n",
              " 'relevance',\n",
              " 'relevant',\n",
              " 'remove',\n",
              " 'removed',\n",
              " 'renewal',\n",
              " 'report',\n",
              " 'represents',\n",
              " 'reproduce',\n",
              " 'reputation',\n",
              " 'required',\n",
              " 'requirement',\n",
              " 'research',\n",
              " 'resolution',\n",
              " 'resources',\n",
              " 'responsibility',\n",
              " 'result',\n",
              " 'results',\n",
              " 'revealed',\n",
              " 'review',\n",
              " 'revision',\n",
              " 'reward',\n",
              " 'right',\n",
              " 'rise',\n",
              " 'role',\n",
              " 'rules',\n",
              " 'said',\n",
              " 'same',\n",
              " 'satisfied',\n",
              " 'say',\n",
              " 'scenario',\n",
              " 'scenarios',\n",
              " 'school',\n",
              " 'schools',\n",
              " 'science',\n",
              " 'scoring',\n",
              " 'searching',\n",
              " 'secret',\n",
              " 'sector',\n",
              " 'sectors',\n",
              " 'see',\n",
              " 'seemed',\n",
              " 'seems',\n",
              " 'segmented',\n",
              " 'self',\n",
              " 'semester',\n",
              " 'semesters',\n",
              " 'send',\n",
              " 'sense',\n",
              " 'senses',\n",
              " 'sensible',\n",
              " 'sentences',\n",
              " 'separately',\n",
              " 'sequenced',\n",
              " 'serious',\n",
              " 'seriously',\n",
              " 'services',\n",
              " 'set',\n",
              " ...]"
            ]
          },
          "metadata": {
            "tags": []
          },
          "execution_count": 54
        }
      ]
    },
    {
      "cell_type": "code",
      "metadata": {
        "id": "JQZNANd7ssK7"
      },
      "source": [
        "#data =pd.read_csv('/content/drive/My Drive/Colab Notebooks/Thesis Data test.csv')"
      ],
      "execution_count": 55,
      "outputs": []
    },
    {
      "cell_type": "code",
      "metadata": {
        "id": "ug7jClfizGwx",
        "outputId": "602b52e2-3419-432d-eedf-40a6c0c71a4b",
        "colab": {
          "base_uri": "https://localhost:8080/",
          "height": 195
        }
      },
      "source": [
        "data.head()"
      ],
      "execution_count": 56,
      "outputs": [
        {
          "output_type": "execute_result",
          "data": {
            "text/html": [
              "<div>\n",
              "<style scoped>\n",
              "    .dataframe tbody tr th:only-of-type {\n",
              "        vertical-align: middle;\n",
              "    }\n",
              "\n",
              "    .dataframe tbody tr th {\n",
              "        vertical-align: top;\n",
              "    }\n",
              "\n",
              "    .dataframe thead th {\n",
              "        text-align: right;\n",
              "    }\n",
              "</style>\n",
              "<table border=\"1\" class=\"dataframe\">\n",
              "  <thead>\n",
              "    <tr style=\"text-align: right;\">\n",
              "      <th></th>\n",
              "      <th>Sentence</th>\n",
              "      <th>sentiment</th>\n",
              "    </tr>\n",
              "  </thead>\n",
              "  <tbody>\n",
              "    <tr>\n",
              "      <th>0</th>\n",
              "      <td>it's good.</td>\n",
              "      <td>1</td>\n",
              "    </tr>\n",
              "    <tr>\n",
              "      <th>1</th>\n",
              "      <td>teachers can judge us properly through this sy...</td>\n",
              "      <td>1</td>\n",
              "    </tr>\n",
              "    <tr>\n",
              "      <th>2</th>\n",
              "      <td>the focus on outcomes creates a clear expectat...</td>\n",
              "      <td>0</td>\n",
              "    </tr>\n",
              "    <tr>\n",
              "      <th>3</th>\n",
              "      <td>not a good curriculum.</td>\n",
              "      <td>0</td>\n",
              "    </tr>\n",
              "    <tr>\n",
              "      <th>4</th>\n",
              "      <td>this system is really good.</td>\n",
              "      <td>1</td>\n",
              "    </tr>\n",
              "  </tbody>\n",
              "</table>\n",
              "</div>"
            ],
            "text/plain": [
              "                                            Sentence  sentiment\n",
              "0                                         it's good.          1\n",
              "1  teachers can judge us properly through this sy...          1\n",
              "2  the focus on outcomes creates a clear expectat...          0\n",
              "3                             not a good curriculum.          0\n",
              "4                        this system is really good.          1"
            ]
          },
          "metadata": {
            "tags": []
          },
          "execution_count": 56
        }
      ]
    },
    {
      "cell_type": "code",
      "metadata": {
        "id": "1Kpz0GVfy7_0"
      },
      "source": [
        "X = data['Sentence']\n",
        "y= data['sentiment']"
      ],
      "execution_count": 57,
      "outputs": []
    },
    {
      "cell_type": "code",
      "metadata": {
        "id": "sIlTlf1Os0t6",
        "outputId": "619ae1d0-7880-44ae-d12d-6f846942f7e8",
        "colab": {
          "base_uri": "https://localhost:8080/"
        }
      },
      "source": [
        "print(y.shape)\n",
        "print(X.shape)"
      ],
      "execution_count": 58,
      "outputs": [
        {
          "output_type": "stream",
          "text": [
            "(596,)\n",
            "(596,)\n"
          ],
          "name": "stdout"
        }
      ]
    },
    {
      "cell_type": "code",
      "metadata": {
        "id": "8MEt4muGzo6l"
      },
      "source": [
        "vectorizer = CountVectorizer()\n"
      ],
      "execution_count": 59,
      "outputs": []
    },
    {
      "cell_type": "code",
      "metadata": {
        "id": "XR9dDnPPs4Wi"
      },
      "source": [
        "X_train,X_test,y_train, y_test = train_test_split( X, y, test_size = 0.2)\n"
      ],
      "execution_count": 60,
      "outputs": []
    },
    {
      "cell_type": "code",
      "metadata": {
        "id": "6svbW-oGs6Nd",
        "outputId": "acaac0ad-ba4b-4c40-e96d-1b5214c4ead2",
        "colab": {
          "base_uri": "https://localhost:8080/"
        }
      },
      "source": [
        "len(X_train)"
      ],
      "execution_count": 61,
      "outputs": [
        {
          "output_type": "execute_result",
          "data": {
            "text/plain": [
              "476"
            ]
          },
          "metadata": {
            "tags": []
          },
          "execution_count": 61
        }
      ]
    },
    {
      "cell_type": "code",
      "metadata": {
        "id": "FnrE8fjgs8rw",
        "outputId": "eabad7a9-04e1-435c-b217-064d9f041c1d",
        "colab": {
          "base_uri": "https://localhost:8080/"
        }
      },
      "source": [
        "print(\"sample class: {}\".format(np.bincount(y_train)))\n",
        "print(\"sample class: {}\".format(np.bincount(y_test)))"
      ],
      "execution_count": 62,
      "outputs": [
        {
          "output_type": "stream",
          "text": [
            "sample class: [195 281]\n",
            "sample class: [48 72]\n"
          ],
          "name": "stdout"
        }
      ]
    },
    {
      "cell_type": "code",
      "metadata": {
        "id": "U2wLXVrGs992"
      },
      "source": [
        "X_train = vectorizer.fit_transform(X_train)\n",
        "X_test = vectorizer.transform(X_test)"
      ],
      "execution_count": 63,
      "outputs": []
    },
    {
      "cell_type": "code",
      "metadata": {
        "id": "JBUeHtGktaa-",
        "outputId": "5e3f8fe1-17d4-4ee5-d35b-82b0a3bc3c48",
        "colab": {
          "base_uri": "https://localhost:8080/"
        }
      },
      "source": [
        "feature_names = vectorizer.get_feature_names()\n",
        "print(\"number of features: {}\".format(len(feature_names)))"
      ],
      "execution_count": 64,
      "outputs": [
        {
          "output_type": "stream",
          "text": [
            "number of features: 1146\n"
          ],
          "name": "stdout"
        }
      ]
    },
    {
      "cell_type": "code",
      "metadata": {
        "id": "qwm3uolCA55e",
        "outputId": "fc70d626-fc4f-4bb8-a2ec-89f2c4eb3f80",
        "colab": {
          "base_uri": "https://localhost:8080/"
        }
      },
      "source": [
        "scores = cross_val_score(LogisticRegression(), X_train,y_train, cv=5)\n",
        "print(\"Mean Cross Validation Accuracy: {:.2f}\".format(np.mean(scores)) )"
      ],
      "execution_count": 65,
      "outputs": [
        {
          "output_type": "stream",
          "text": [
            "Mean Cross Validation Accuracy: 0.71\n"
          ],
          "name": "stdout"
        }
      ]
    },
    {
      "cell_type": "code",
      "metadata": {
        "id": "Mp96luHZHFJp",
        "outputId": "e50b305b-ca40-4ee7-b2b6-d281594ce3f4",
        "colab": {
          "base_uri": "https://localhost:8080/"
        }
      },
      "source": [
        "logreg= LogisticRegression()\n",
        "logreg.fit(X_train,y_train)\n",
        "print(\"train Score: {:.3f}\".format(logreg.score(X_train,y_train)))\n",
        "print(\"test Score: {:.3f}\".format(logreg.score(X_test,y_test)))"
      ],
      "execution_count": 66,
      "outputs": [
        {
          "output_type": "stream",
          "text": [
            "train Score: 0.968\n",
            "test Score: 0.750\n"
          ],
          "name": "stdout"
        }
      ]
    },
    {
      "cell_type": "code",
      "metadata": {
        "id": "R_HcNdPYPszM",
        "outputId": "82557a7d-30ac-4ba6-9c55-ef7e1a3893b2",
        "colab": {
          "base_uri": "https://localhost:8080/"
        }
      },
      "source": [
        "pred_logreg  = logreg.predict(X_test)\n",
        "confusion = confusion_matrix(y_test,pred_logreg)\n",
        "print(\"cofusion Matrix:\\n{}\" .format(confusion))"
      ],
      "execution_count": 67,
      "outputs": [
        {
          "output_type": "stream",
          "text": [
            "cofusion Matrix:\n",
            "[[33 15]\n",
            " [15 57]]\n"
          ],
          "name": "stdout"
        }
      ]
    },
    {
      "cell_type": "code",
      "metadata": {
        "id": "Fz4cXQyURhCe",
        "outputId": "46fc050d-f09d-4751-8b12-9d04efc0ba0f",
        "colab": {
          "base_uri": "https://localhost:8080/"
        }
      },
      "source": [
        "nb = MultinomialNB()\n",
        "nb.fit(X_train,y_train)\n",
        "print(\"Training set score: {:.3f}\".format(nb.score(X_train,y_train)))\n",
        "print(\"Test set score: {:.3f}\".format(nb.score(X_test,y_test)))"
      ],
      "execution_count": 68,
      "outputs": [
        {
          "output_type": "stream",
          "text": [
            "Training set score: 0.929\n",
            "Test set score: 0.800\n"
          ],
          "name": "stdout"
        }
      ]
    },
    {
      "cell_type": "code",
      "metadata": {
        "id": "b_Ay6k9qXGrF",
        "outputId": "973f7287-9040-42de-ed66-8e8e5c4b8c38",
        "colab": {
          "base_uri": "https://localhost:8080/"
        }
      },
      "source": [
        "pred_nb  = nb.predict(X_test)\n",
        "confusion1 = confusion_matrix(y_test,pred_nb)\n",
        "print(\"cofusion Matrix:\\n{}\" .format(confusion1)) "
      ],
      "execution_count": 69,
      "outputs": [
        {
          "output_type": "stream",
          "text": [
            "cofusion Matrix:\n",
            "[[33 15]\n",
            " [ 9 63]]\n"
          ],
          "name": "stdout"
        }
      ]
    },
    {
      "cell_type": "code",
      "metadata": {
        "id": "SRa1Wca3XslD",
        "outputId": "9aafaf5d-9a14-4724-9c60-940b47ec35ab",
        "colab": {
          "base_uri": "https://localhost:8080/"
        }
      },
      "source": [
        "rf = RandomForestClassifier()\n",
        "rf.fit(X_train,y_train)\n",
        "print(\"Training set score: {:.3f}\".format(rf.score(X_train,y_train)))\n",
        "print(\"Test set score: {:.3f}\".format(rf.score(X_test,y_test)))"
      ],
      "execution_count": 70,
      "outputs": [
        {
          "output_type": "stream",
          "text": [
            "Training set score: 0.987\n",
            "Test set score: 0.750\n"
          ],
          "name": "stdout"
        }
      ]
    },
    {
      "cell_type": "code",
      "metadata": {
        "id": "PhjqwFpoYFmL",
        "outputId": "5b419398-4c87-4771-9bb4-88cbdde003fe",
        "colab": {
          "base_uri": "https://localhost:8080/"
        }
      },
      "source": [
        "pred_rf  = rf.predict(X_test)\n",
        "confusion2 = confusion_matrix(y_test,pred_rf)\n",
        "print(\"cofusion Matrix:\\n{}\" .format(confusion2))"
      ],
      "execution_count": 71,
      "outputs": [
        {
          "output_type": "stream",
          "text": [
            "cofusion Matrix:\n",
            "[[29 19]\n",
            " [11 61]]\n"
          ],
          "name": "stdout"
        }
      ]
    },
    {
      "cell_type": "code",
      "metadata": {
        "id": "Qs_GFrEOI6EV",
        "outputId": "28a026fd-7157-4ec3-b6a8-ad6e6c38414f",
        "colab": {
          "base_uri": "https://localhost:8080/"
        }
      },
      "source": [
        "knn_clf = KNeighborsClassifier(n_neighbors=8)\n",
        "knn_clf.fit(X_train,y_train)\n",
        "knn_prediction = knn_clf.predict(X_test)\n",
        "print(\"Training set score: {:.3f}\".format(knn_clf.score(X_train,y_train)))\n",
        "print(\"Test set score: {:.3f}\".format(knn_clf.score(X_test,y_test)))\n"
      ],
      "execution_count": 72,
      "outputs": [
        {
          "output_type": "stream",
          "text": [
            "Training set score: 0.679\n",
            "Test set score: 0.508\n"
          ],
          "name": "stdout"
        }
      ]
    },
    {
      "cell_type": "code",
      "metadata": {
        "id": "TX3H7UmMAW1y",
        "outputId": "18b177a2-edc5-4b4c-cbd3-668e28e5d7f6",
        "colab": {
          "base_uri": "https://localhost:8080/"
        }
      },
      "source": [
        "confusion3 = confusion_matrix(y_test,knn_prediction)\n",
        "print(\"cofusion Matrix:\\n{}\" .format(confusion3))"
      ],
      "execution_count": 73,
      "outputs": [
        {
          "output_type": "stream",
          "text": [
            "cofusion Matrix:\n",
            "[[20 28]\n",
            " [31 41]]\n"
          ],
          "name": "stdout"
        }
      ]
    },
    {
      "cell_type": "code",
      "metadata": {
        "id": "R3pADKPsGY2h",
        "outputId": "da0bf6e3-7cdd-467f-d398-94431bbcca37",
        "colab": {
          "base_uri": "https://localhost:8080/",
          "height": 404
        }
      },
      "source": [
        "matrix = plot_confusion_matrix(knn_clf, X_test, y_test,cmap = plt.cm.Reds)\n",
        "matrix.ax_.set_title('confuison Matrix' , color='white')\n",
        "plt.xlabel('Predicted Label',color='white')\n",
        "plt.ylabel('True Label', color='white')                             #plot confusion matrix\n",
        "plt.gcf().axes[0].tick_params(colors='white')\n",
        "plt.gcf().axes[1].tick_params(colors='white')\n",
        "plt.gcf().set_size_inches(10,6)\n",
        "plt.show()\n"
      ],
      "execution_count": 74,
      "outputs": [
        {
          "output_type": "display_data",
          "data": {
            "image/png": "[encoded data removed]",
            "text/plain": [
              "<Figure size 720x432 with 2 Axes>"
            ]
          },
          "metadata": {
            "tags": [],
            "needs_background": "dark"
          }
        }
      ]
    },
    {
      "cell_type": "code",
      "metadata": {
        "id": "gT2SJ2JqXiIk",
        "outputId": "50182bc1-5d5d-4092-92d9-882347b36958",
        "colab": {
          "base_uri": "https://localhost:8080/",
          "height": 404
        }
      },
      "source": [
        "matrix = plot_confusion_matrix(nb, X_test, y_test,cmap = plt.cm.Blues)\n",
        "matrix.ax_.set_title('confuison Matrix' , color='white')\n",
        "plt.xlabel('Predicted Label',color='white')\n",
        "plt.ylabel('True Label', color='white')                         #plot confusion matrix\n",
        "plt.gcf().axes[0].tick_params(colors='white')\n",
        "plt.gcf().axes[1].tick_params(colors='white')\n",
        "plt.gcf().set_size_inches(10,6)\n",
        "plt.show()"
      ],
      "execution_count": 75,
      "outputs": [
        {
          "output_type": "display_data",
          "data": {
            "image/png": "[encoded data removed]",
            "text/plain": [
              "<Figure size 720x432 with 2 Axes>"
            ]
          },
          "metadata": {
            "tags": [],
            "needs_background": "dark"
          }
        }
      ]
    },
    {
      "cell_type": "code",
      "metadata": {
        "id": "C16ecDN6X-9J",
        "outputId": "0b247c2b-a529-40cf-db29-9b8de6f68d7e",
        "colab": {
          "base_uri": "https://localhost:8080/",
          "height": 404
        }
      },
      "source": [
        "matrix = plot_confusion_matrix(rf, X_test, y_test,cmap = plt.cm.Greens)\n",
        "matrix.ax_.set_title('confuison Matrix' , color='white')\n",
        "plt.xlabel('Predicted Label',color='white')\n",
        "plt.ylabel('True Label', color='white')                       #plot confusion matrix\n",
        "plt.gcf().axes[0].tick_params(colors='white')\n",
        "plt.gcf().axes[1].tick_params(colors='white')\n",
        "plt.gcf().set_size_inches(10,6)\n",
        "plt.show()"
      ],
      "execution_count": 76,
      "outputs": [
        {
          "output_type": "display_data",
          "data": {
            "image/png": "[encoded data removed]",
            "text/plain": [
              "<Figure size 720x432 with 2 Axes>"
            ]
          },
          "metadata": {
            "tags": [],
            "needs_background": "dark"
          }
        }
      ]
    },
    {
      "cell_type": "code",
      "metadata": {
        "id": "j3QhOwFzYVs7",
        "outputId": "fcf13986-1c85-47a6-9787-5c0db7daa0f6",
        "colab": {
          "base_uri": "https://localhost:8080/",
          "height": 404
        }
      },
      "source": [
        "matrix = plot_confusion_matrix(logreg, X_test, y_test,cmap = plt.cm.GnBu_r) #plot confusion matrix\n",
        "matrix.ax_.set_title('confuison Matrix' , color='white')\n",
        "plt.xlabel('Predicted Label',color='white')\n",
        "plt.ylabel('True Label', color='white')\n",
        "plt.gcf().axes[0].tick_params(colors='white')\n",
        "plt.gcf().axes[1].tick_params(colors='white')\n",
        "plt.gcf().set_size_inches(10,6)\n",
        "plt.show()"
      ],
      "execution_count": 77,
      "outputs": [
        {
          "output_type": "display_data",
          "data": {
            "image/png": "[encoded data removed]",
            "text/plain": [
              "<Figure size 720x432 with 2 Axes>"
            ]
          },
          "metadata": {
            "tags": [],
            "needs_background": "dark"
          }
        }
      ]
    },
    {
      "cell_type": "code",
      "metadata": {
        "id": "9SJyaq17YjFj"
      },
      "source": [
        "r_probs = [0 for _ in range(len(y_test))]\n",
        "rf_probs = rf.predict_proba(X_test) #calculating probabilities\n",
        "nb_probs = nb.predict_proba(X_test)\n",
        "logreg_probs = logreg.predict_proba(X_test)\n",
        "knn_clf_probs = knn_clf.predict_proba(X_test)"
      ],
      "execution_count": 78,
      "outputs": []
    },
    {
      "cell_type": "code",
      "metadata": {
        "id": "aH7kg4yn-XPg"
      },
      "source": [
        "rf_probs = rf_probs[:, 1] ##probabilitions for the pos outcomes is kept\n",
        "nb_probs= nb_probs[:, 1]\n",
        "logreg_probs = logreg_probs[:, 1]\n",
        "knn_clf_probs=knn_clf_probs[:, 1]"
      ],
      "execution_count": 79,
      "outputs": []
    },
    {
      "cell_type": "code",
      "metadata": {
        "id": "F1nus8AK8JvI"
      },
      "source": [
        "from sklearn.metrics import roc_curve , roc_auc_score"
      ],
      "execution_count": 80,
      "outputs": []
    },
    {
      "cell_type": "code",
      "metadata": {
        "id": "UVvgTg1y8ek4"
      },
      "source": [
        "r_auc = roc_auc_score(y_test,r_probs)\n",
        "rf_auc = roc_auc_score(y_test,rf_probs)\n",
        "nb_auc = roc_auc_score(y_test,nb_probs)             #calculating roc_auc\n",
        "logreg_auc =roc_auc_score(y_test,logreg_probs)\n",
        "knn_clf_auc =roc_auc_score(y_test,knn_clf_probs)"
      ],
      "execution_count": 81,
      "outputs": []
    },
    {
      "cell_type": "code",
      "metadata": {
        "id": "BZLNQoAo9GwU",
        "outputId": "7605422c-7c47-4f26-f3df-b09784675298",
        "colab": {
          "base_uri": "https://localhost:8080/"
        }
      },
      "source": [
        "print('random (chance) = %.3f'% (r_auc))\n",
        "print('random forest = %.3f'% (rf_auc))\n",
        "print('naive bayes = %.3f'% (nb_auc))\n",
        "print('logistic regression = %.3f'% (logreg_auc))\n",
        "print('KNN-classifier = %.3f'% (knn_clf_auc))"
      ],
      "execution_count": 82,
      "outputs": [
        {
          "output_type": "stream",
          "text": [
            "random (chance) = 0.500\n",
            "random forest = 0.816\n",
            "naive bayes = 0.825\n",
            "logistic regression = 0.805\n",
            "KNN-classifier = 0.535\n"
          ],
          "name": "stdout"
        }
      ]
    },
    {
      "cell_type": "code",
      "metadata": {
        "id": "gDpc_phzDz3g"
      },
      "source": [
        "r_fpr,r_tpr, _ = roc_curve(y_test,r_probs)\n",
        "rf_fpr,rf_tpr, _ = roc_curve(y_test,rf_probs)\n",
        "nb_fpr,nb_tpr, _ = roc_curve(y_test,nb_probs)                 ##calculating ROC curve\n",
        "logreg_fpr,logreg_tpr, _ = roc_curve(y_test,logreg_probs)\n",
        "knn_clf_fpr,knn_clf_tpr, _ = roc_curve(y_test,knn_clf_probs)"
      ],
      "execution_count": 83,
      "outputs": []
    },
    {
      "cell_type": "code",
      "metadata": {
        "id": "w5CigHPEDWRM"
      },
      "source": [
        "from sklearn.datasets import  make_classification"
      ],
      "execution_count": 84,
      "outputs": []
    },
    {
      "cell_type": "code",
      "metadata": {
        "id": "4j-Gy2lYBUkA",
        "outputId": "e8b24267-77fb-4ddf-f0d0-654a817fb960",
        "colab": {
          "base_uri": "https://localhost:8080/",
          "height": 295
        }
      },
      "source": [
        "plt.plot(r_fpr, r_tpr, linestyle = '--' , label = 'Random Prediction(AUROC = %0.3f' % r_auc)\n",
        "plt.plot(rf_fpr,rf_tpr,  marker = '.', label = 'Random Forest (AUROC = %0.3f' % rf_auc) #plot ROC curve\n",
        "plt.plot(nb_fpr,nb_tpr,  marker = '.', label = 'Naive Bayes (AUROC = %0.3f' % nb_auc)\n",
        "plt.plot(logreg_fpr,logreg_tpr,  marker = '.', label = 'Logistic Regression (AUROC = %0.3f' % logreg_auc)\n",
        "plt.plot(knn_clf_fpr,knn_clf_tpr,  marker = '.', label = 'K Neighbors (AUROC = %0.3f' % knn_clf_auc)\n",
        "\n",
        "\n",
        "\n",
        "#Title\n",
        "plt.title('ROC Plot')\n",
        "#Axis labels\n",
        "\n",
        "\n",
        "plt.xlabel('False Positive Rate')\n",
        "plt.ylabel('True Positive Rate' )\n",
        "#plt.setp(ax.get_xticklabels(), color=\"red\")\n",
        "\n",
        "\n",
        "#show legend\n",
        "plt.legend()\n",
        "\n",
        "plt.show()\n"
      ],
      "execution_count": 85,
      "outputs": [
        {
          "output_type": "display_data",
          "data": {
            "image/png": "[encoded data removed]",
            "text/plain": [
              "<Figure size 432x288 with 1 Axes>"
            ]
          },
          "metadata": {
            "tags": [],
            "needs_background": "light"
          }
        }
      ]
    },
    {
      "cell_type": "code",
      "metadata": {
        "id": "2RrizAZsHfFK",
        "outputId": "fef5f8f5-5197-499e-aeda-d7e2d4c5c082",
        "colab": {
          "base_uri": "https://localhost:8080/"
        }
      },
      "source": [
        "rev = \"wish i could say something good but i can't because its too bad\"\n",
        "print(logreg.predict(vectorizer.transform([rev]))[0])\n",
        "print(rf.predict(vectorizer.transform([rev]))[0])\n",
        "print(nb.predict(vectorizer.transform([rev]))[0])\n",
        "print(knn_clf.predict(vectorizer.transform([rev]))[0])"
      ],
      "execution_count": 86,
      "outputs": [
        {
          "output_type": "stream",
          "text": [
            "1\n",
            "1\n",
            "0\n",
            "1\n"
          ],
          "name": "stdout"
        }
      ]
    },
    {
      "cell_type": "code",
      "metadata": {
        "id": "05uLhZ2PQ19p",
        "outputId": "403078f5-e993-4180-9683-00b2eb485672",
        "colab": {
          "base_uri": "https://localhost:8080/"
        }
      },
      "source": [
        "rev = \"This should be more understandable to the students\"\n",
        "print(logreg.predict(vectorizer.transform([rev]))[0])\n",
        "print(rf.predict(vectorizer.transform([rev]))[0])\n",
        "print(nb.predict(vectorizer.transform([rev]))[0])\n",
        "print(knn_clf.predict(vectorizer.transform([rev]))[0])"
      ],
      "execution_count": 87,
      "outputs": [
        {
          "output_type": "stream",
          "text": [
            "0\n",
            "0\n",
            "1\n",
            "1\n"
          ],
          "name": "stdout"
        }
      ]
    },
    {
      "cell_type": "code",
      "metadata": {
        "id": "aSJGEmdiHREO"
      },
      "source": [
        ""
      ],
      "execution_count": null,
      "outputs": []
    }
  ]
}